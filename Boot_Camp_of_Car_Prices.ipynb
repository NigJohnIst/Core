{
  "cells": [
    {
      "cell_type": "markdown",
      "metadata": {
        "id": "view-in-github",
        "colab_type": "text"
      },
      "source": [
        "<a href=\"https://colab.research.google.com/github/NigJohnIst/Core/blob/master/Boot_Camp_of_Car_Prices.ipynb\" target=\"_parent\"><img src=\"https://colab.research.google.com/assets/colab-badge.svg\" alt=\"Open In Colab\"/></a>"
      ]
    },
    {
      "cell_type": "markdown",
      "metadata": {
        "id": "VVgDywxhwoV0"
      },
      "source": [
        "# Car Prices"
      ]
    },
    {
      "cell_type": "code",
      "execution_count": null,
      "metadata": {
        "id": "parmqCQgwoV2"
      },
      "outputs": [],
      "source": [
        "import pandas as pd\n",
        "import matplotlib.pyplot as plt\n",
        "import numpy as np\n"
      ]
    },
    {
      "cell_type": "code",
      "source": [
        "!pip install"
      ],
      "metadata": {
        "id": "a41oLc6vxbfH"
      },
      "execution_count": null,
      "outputs": []
    },
    {
      "cell_type": "code",
      "execution_count": null,
      "metadata": {
        "id": "Gy1vNADtwoV3"
      },
      "outputs": [],
      "source": [
        "import requests\n",
        "\n",
        "# UC Irvine Machine Learning Repository\n",
        "# http://archive.ics.uci.edu/ml/datasets/Automobile\n",
        "\n",
        "url = 'http://archive.ics.uci.edu/ml/machine-learning-databases/autos/imports-85.data'"
      ]
    },
    {
      "cell_type": "code",
      "execution_count": null,
      "metadata": {
        "id": "LvBUhoUhwoV4"
      },
      "outputs": [],
      "source": [
        "header = [\n",
        "    'symboling',\n",
        "    'normalized-losses',\n",
        "    'make',\n",
        "    'fuel-type',\n",
        "    'aspiration',\n",
        "    'num-of-doors',\n",
        "    'body-style',\n",
        "    'drive-wheels',\n",
        "    'engine-location',\n",
        "    'wheel-base',\n",
        "    'length',\n",
        "    'width',\n",
        "    'height',\n",
        "    'curb-weight',\n",
        "    'engine-type',\n",
        "    'num-of-cylinders',\n",
        "    'engine-size',\n",
        "    'fuel-system',\n",
        "    'bore',\n",
        "    'stroke',\n",
        "    'compression-ratio',\n",
        "    'horsepower',\n",
        "    'peak-rpm',\n",
        "    'city-mpg',\n",
        "    'highway-mpg',\n",
        "    'price',\n",
        "\n",
        "]"
      ]
    },
    {
      "cell_type": "code",
      "execution_count": null,
      "metadata": {
        "id": "dD-Tyq1fwoV5"
      },
      "outputs": [],
      "source": [
        "df = pd.read_csv(url, names=header, na_values='?')"
      ]
    },
    {
      "cell_type": "code",
      "execution_count": null,
      "metadata": {
        "id": "uRl1LbgFwoV5",
        "outputId": "7cb678ac-9b88-48f6-9f14-306b5b83e6d8",
        "colab": {
          "base_uri": "https://localhost:8080/",
          "height": 204
        }
      },
      "outputs": [
        {
          "output_type": "execute_result",
          "data": {
            "text/plain": [
              "   symboling  normalized-losses         make fuel-type aspiration  ...  \\\n",
              "0          3                NaN  alfa-romero       gas        std  ...   \n",
              "1          3                NaN  alfa-romero       gas        std  ...   \n",
              "2          1                NaN  alfa-romero       gas        std  ...   \n",
              "3          2              164.0         audi       gas        std  ...   \n",
              "\n",
              "  horsepower peak-rpm city-mpg highway-mpg    price  \n",
              "0      111.0   5000.0       21          27  13495.0  \n",
              "1      111.0   5000.0       21          27  16500.0  \n",
              "2      154.0   5000.0       19          26  16500.0  \n",
              "3      102.0   5500.0       24          30  13950.0  \n",
              "\n",
              "[4 rows x 26 columns]"
            ],
            "text/html": [
              "\n",
              "\n",
              "  <div id=\"df-d4d484a2-bae0-47a9-9fcc-c5e0dc2ffd8f\">\n",
              "    <div class=\"colab-df-container\">\n",
              "      <div>\n",
              "<style scoped>\n",
              "    .dataframe tbody tr th:only-of-type {\n",
              "        vertical-align: middle;\n",
              "    }\n",
              "\n",
              "    .dataframe tbody tr th {\n",
              "        vertical-align: top;\n",
              "    }\n",
              "\n",
              "    .dataframe thead th {\n",
              "        text-align: right;\n",
              "    }\n",
              "</style>\n",
              "<table border=\"1\" class=\"dataframe\">\n",
              "  <thead>\n",
              "    <tr style=\"text-align: right;\">\n",
              "      <th></th>\n",
              "      <th>symboling</th>\n",
              "      <th>normalized-losses</th>\n",
              "      <th>make</th>\n",
              "      <th>fuel-type</th>\n",
              "      <th>aspiration</th>\n",
              "      <th>...</th>\n",
              "      <th>horsepower</th>\n",
              "      <th>peak-rpm</th>\n",
              "      <th>city-mpg</th>\n",
              "      <th>highway-mpg</th>\n",
              "      <th>price</th>\n",
              "    </tr>\n",
              "  </thead>\n",
              "  <tbody>\n",
              "    <tr>\n",
              "      <th>0</th>\n",
              "      <td>3</td>\n",
              "      <td>NaN</td>\n",
              "      <td>alfa-romero</td>\n",
              "      <td>gas</td>\n",
              "      <td>std</td>\n",
              "      <td>...</td>\n",
              "      <td>111.0</td>\n",
              "      <td>5000.0</td>\n",
              "      <td>21</td>\n",
              "      <td>27</td>\n",
              "      <td>13495.0</td>\n",
              "    </tr>\n",
              "    <tr>\n",
              "      <th>1</th>\n",
              "      <td>3</td>\n",
              "      <td>NaN</td>\n",
              "      <td>alfa-romero</td>\n",
              "      <td>gas</td>\n",
              "      <td>std</td>\n",
              "      <td>...</td>\n",
              "      <td>111.0</td>\n",
              "      <td>5000.0</td>\n",
              "      <td>21</td>\n",
              "      <td>27</td>\n",
              "      <td>16500.0</td>\n",
              "    </tr>\n",
              "    <tr>\n",
              "      <th>2</th>\n",
              "      <td>1</td>\n",
              "      <td>NaN</td>\n",
              "      <td>alfa-romero</td>\n",
              "      <td>gas</td>\n",
              "      <td>std</td>\n",
              "      <td>...</td>\n",
              "      <td>154.0</td>\n",
              "      <td>5000.0</td>\n",
              "      <td>19</td>\n",
              "      <td>26</td>\n",
              "      <td>16500.0</td>\n",
              "    </tr>\n",
              "    <tr>\n",
              "      <th>3</th>\n",
              "      <td>2</td>\n",
              "      <td>164.0</td>\n",
              "      <td>audi</td>\n",
              "      <td>gas</td>\n",
              "      <td>std</td>\n",
              "      <td>...</td>\n",
              "      <td>102.0</td>\n",
              "      <td>5500.0</td>\n",
              "      <td>24</td>\n",
              "      <td>30</td>\n",
              "      <td>13950.0</td>\n",
              "    </tr>\n",
              "  </tbody>\n",
              "</table>\n",
              "<p>4 rows × 26 columns</p>\n",
              "</div>\n",
              "      <button class=\"colab-df-convert\" onclick=\"convertToInteractive('df-d4d484a2-bae0-47a9-9fcc-c5e0dc2ffd8f')\"\n",
              "              title=\"Convert this dataframe to an interactive table.\"\n",
              "              style=\"display:none;\">\n",
              "\n",
              "  <svg xmlns=\"http://www.w3.org/2000/svg\" height=\"24px\"viewBox=\"0 0 24 24\"\n",
              "       width=\"24px\">\n",
              "    <path d=\"M0 0h24v24H0V0z\" fill=\"none\"/>\n",
              "    <path d=\"M18.56 5.44l.94 2.06.94-2.06 2.06-.94-2.06-.94-.94-2.06-.94 2.06-2.06.94zm-11 1L8.5 8.5l.94-2.06 2.06-.94-2.06-.94L8.5 2.5l-.94 2.06-2.06.94zm10 10l.94 2.06.94-2.06 2.06-.94-2.06-.94-.94-2.06-.94 2.06-2.06.94z\"/><path d=\"M17.41 7.96l-1.37-1.37c-.4-.4-.92-.59-1.43-.59-.52 0-1.04.2-1.43.59L10.3 9.45l-7.72 7.72c-.78.78-.78 2.05 0 2.83L4 21.41c.39.39.9.59 1.41.59.51 0 1.02-.2 1.41-.59l7.78-7.78 2.81-2.81c.8-.78.8-2.07 0-2.86zM5.41 20L4 18.59l7.72-7.72 1.47 1.35L5.41 20z\"/>\n",
              "  </svg>\n",
              "      </button>\n",
              "\n",
              "\n",
              "\n",
              "    <div id=\"df-9d8c25ad-dc6b-4eca-a2d0-5ac52401ee58\">\n",
              "      <button class=\"colab-df-quickchart\" onclick=\"quickchart('df-9d8c25ad-dc6b-4eca-a2d0-5ac52401ee58')\"\n",
              "              title=\"Suggest charts.\"\n",
              "              style=\"display:none;\">\n",
              "\n",
              "<svg xmlns=\"http://www.w3.org/2000/svg\" height=\"24px\"viewBox=\"0 0 24 24\"\n",
              "     width=\"24px\">\n",
              "    <g>\n",
              "        <path d=\"M19 3H5c-1.1 0-2 .9-2 2v14c0 1.1.9 2 2 2h14c1.1 0 2-.9 2-2V5c0-1.1-.9-2-2-2zM9 17H7v-7h2v7zm4 0h-2V7h2v10zm4 0h-2v-4h2v4z\"/>\n",
              "    </g>\n",
              "</svg>\n",
              "      </button>\n",
              "    </div>\n",
              "\n",
              "<style>\n",
              "  .colab-df-quickchart {\n",
              "    background-color: #E8F0FE;\n",
              "    border: none;\n",
              "    border-radius: 50%;\n",
              "    cursor: pointer;\n",
              "    display: none;\n",
              "    fill: #1967D2;\n",
              "    height: 32px;\n",
              "    padding: 0 0 0 0;\n",
              "    width: 32px;\n",
              "  }\n",
              "\n",
              "  .colab-df-quickchart:hover {\n",
              "    background-color: #E2EBFA;\n",
              "    box-shadow: 0px 1px 2px rgba(60, 64, 67, 0.3), 0px 1px 3px 1px rgba(60, 64, 67, 0.15);\n",
              "    fill: #174EA6;\n",
              "  }\n",
              "\n",
              "  [theme=dark] .colab-df-quickchart {\n",
              "    background-color: #3B4455;\n",
              "    fill: #D2E3FC;\n",
              "  }\n",
              "\n",
              "  [theme=dark] .colab-df-quickchart:hover {\n",
              "    background-color: #434B5C;\n",
              "    box-shadow: 0px 1px 3px 1px rgba(0, 0, 0, 0.15);\n",
              "    filter: drop-shadow(0px 1px 2px rgba(0, 0, 0, 0.3));\n",
              "    fill: #FFFFFF;\n",
              "  }\n",
              "</style>\n",
              "\n",
              "    <script>\n",
              "      async function quickchart(key) {\n",
              "        const containerElement = document.querySelector('#' + key);\n",
              "        const charts = await google.colab.kernel.invokeFunction(\n",
              "            'suggestCharts', [key], {});\n",
              "      }\n",
              "    </script>\n",
              "\n",
              "      <script>\n",
              "\n",
              "function displayQuickchartButton(domScope) {\n",
              "  let quickchartButtonEl =\n",
              "    domScope.querySelector('#df-9d8c25ad-dc6b-4eca-a2d0-5ac52401ee58 button.colab-df-quickchart');\n",
              "  quickchartButtonEl.style.display =\n",
              "    google.colab.kernel.accessAllowed ? 'block' : 'none';\n",
              "}\n",
              "\n",
              "        displayQuickchartButton(document);\n",
              "      </script>\n",
              "      <style>\n",
              "    .colab-df-container {\n",
              "      display:flex;\n",
              "      flex-wrap:wrap;\n",
              "      gap: 12px;\n",
              "    }\n",
              "\n",
              "    .colab-df-convert {\n",
              "      background-color: #E8F0FE;\n",
              "      border: none;\n",
              "      border-radius: 50%;\n",
              "      cursor: pointer;\n",
              "      display: none;\n",
              "      fill: #1967D2;\n",
              "      height: 32px;\n",
              "      padding: 0 0 0 0;\n",
              "      width: 32px;\n",
              "    }\n",
              "\n",
              "    .colab-df-convert:hover {\n",
              "      background-color: #E2EBFA;\n",
              "      box-shadow: 0px 1px 2px rgba(60, 64, 67, 0.3), 0px 1px 3px 1px rgba(60, 64, 67, 0.15);\n",
              "      fill: #174EA6;\n",
              "    }\n",
              "\n",
              "    [theme=dark] .colab-df-convert {\n",
              "      background-color: #3B4455;\n",
              "      fill: #D2E3FC;\n",
              "    }\n",
              "\n",
              "    [theme=dark] .colab-df-convert:hover {\n",
              "      background-color: #434B5C;\n",
              "      box-shadow: 0px 1px 3px 1px rgba(0, 0, 0, 0.15);\n",
              "      filter: drop-shadow(0px 1px 2px rgba(0, 0, 0, 0.3));\n",
              "      fill: #FFFFFF;\n",
              "    }\n",
              "  </style>\n",
              "\n",
              "      <script>\n",
              "        const buttonEl =\n",
              "          document.querySelector('#df-d4d484a2-bae0-47a9-9fcc-c5e0dc2ffd8f button.colab-df-convert');\n",
              "        buttonEl.style.display =\n",
              "          google.colab.kernel.accessAllowed ? 'block' : 'none';\n",
              "\n",
              "        async function convertToInteractive(key) {\n",
              "          const element = document.querySelector('#df-d4d484a2-bae0-47a9-9fcc-c5e0dc2ffd8f');\n",
              "          const dataTable =\n",
              "            await google.colab.kernel.invokeFunction('convertToInteractive',\n",
              "                                                     [key], {});\n",
              "          if (!dataTable) return;\n",
              "\n",
              "          const docLinkHtml = 'Like what you see? Visit the ' +\n",
              "            '<a target=\"_blank\" href=https://colab.research.google.com/notebooks/data_table.ipynb>data table notebook</a>'\n",
              "            + ' to learn more about interactive tables.';\n",
              "          element.innerHTML = '';\n",
              "          dataTable['output_type'] = 'display_data';\n",
              "          await google.colab.output.renderOutput(dataTable, element);\n",
              "          const docLink = document.createElement('div');\n",
              "          docLink.innerHTML = docLinkHtml;\n",
              "          element.appendChild(docLink);\n",
              "        }\n",
              "      </script>\n",
              "    </div>\n",
              "  </div>\n"
            ]
          },
          "metadata": {},
          "execution_count": 21
        }
      ],
      "source": [
        "df.head(4)"
      ]
    },
    {
      "cell_type": "code",
      "execution_count": null,
      "metadata": {
        "id": "fvBAD1q-woV6",
        "outputId": "229f84dc-7bba-4b47-f981-f00b5eee0224",
        "colab": {
          "base_uri": "https://localhost:8080/"
        }
      },
      "outputs": [
        {
          "output_type": "stream",
          "name": "stdout",
          "text": [
            "<class 'pandas.core.frame.DataFrame'>\n",
            "RangeIndex: 205 entries, 0 to 204\n",
            "Data columns (total 26 columns):\n",
            " #   Column             Non-Null Count  Dtype  \n",
            "---  ------             --------------  -----  \n",
            " 0   symboling          205 non-null    int64  \n",
            " 1   normalized-losses  164 non-null    float64\n",
            " 2   make               205 non-null    object \n",
            " 3   fuel-type          205 non-null    object \n",
            " 4   aspiration         205 non-null    object \n",
            " 5   num-of-doors       203 non-null    object \n",
            " 6   body-style         205 non-null    object \n",
            " 7   drive-wheels       205 non-null    object \n",
            " 8   engine-location    205 non-null    object \n",
            " 9   wheel-base         205 non-null    float64\n",
            " 10  length             205 non-null    float64\n",
            " 11  width              205 non-null    float64\n",
            " 12  height             205 non-null    float64\n",
            " 13  curb-weight        205 non-null    int64  \n",
            " 14  engine-type        205 non-null    object \n",
            " 15  num-of-cylinders   205 non-null    object \n",
            " 16  engine-size        205 non-null    int64  \n",
            " 17  fuel-system        205 non-null    object \n",
            " 18  bore               201 non-null    float64\n",
            " 19  stroke             201 non-null    float64\n",
            " 20  compression-ratio  205 non-null    float64\n",
            " 21  horsepower         203 non-null    float64\n",
            " 22  peak-rpm           203 non-null    float64\n",
            " 23  city-mpg           205 non-null    int64  \n",
            " 24  highway-mpg        205 non-null    int64  \n",
            " 25  price              201 non-null    float64\n",
            "dtypes: float64(11), int64(5), object(10)\n",
            "memory usage: 41.8+ KB\n"
          ]
        }
      ],
      "source": [
        "df.info()"
      ]
    },
    {
      "cell_type": "code",
      "execution_count": null,
      "metadata": {
        "id": "PgyY8F94woV7"
      },
      "outputs": [],
      "source": [
        "df = df.applymap(\n",
        "    lambda cell: np.nan if cell == '?' else cell\n",
        ")"
      ]
    },
    {
      "cell_type": "code",
      "execution_count": null,
      "metadata": {
        "id": "iNUVMCqjwoV7"
      },
      "outputs": [],
      "source": [
        "# cols_with_missing = df.isna().sum()\n",
        "cols_with_missing = df.isnull().sum()"
      ]
    },
    {
      "cell_type": "code",
      "execution_count": null,
      "metadata": {
        "id": "77ynYnmowoV8",
        "outputId": "df95ee00-210a-4204-c3df-a2a3d9976cac",
        "colab": {
          "base_uri": "https://localhost:8080/"
        }
      },
      "outputs": [
        {
          "output_type": "execute_result",
          "data": {
            "text/plain": [
              "normalized-losses    41\n",
              "num-of-doors          2\n",
              "bore                  4\n",
              "stroke                4\n",
              "horsepower            2\n",
              "peak-rpm              2\n",
              "price                 4\n",
              "dtype: int64"
            ]
          },
          "metadata": {},
          "execution_count": 25
        }
      ],
      "source": [
        "cols_with_missing[\n",
        "    cols_with_missing > 0\n",
        "]"
      ]
    },
    {
      "cell_type": "code",
      "execution_count": null,
      "metadata": {
        "id": "upgk22WQwoV9"
      },
      "outputs": [],
      "source": [
        "df = df[~df['price'].isnull()]"
      ]
    },
    {
      "cell_type": "code",
      "execution_count": null,
      "metadata": {
        "id": "OerDxrLJwoV-",
        "colab": {
          "base_uri": "https://localhost:8080/"
        },
        "outputId": "bac479ee-38a7-4c7b-84d8-d1db93980260"
      },
      "outputs": [
        {
          "output_type": "stream",
          "name": "stderr",
          "text": [
            "<ipython-input-27-2437769fcdf6>:1: SettingWithCopyWarning: \n",
            "A value is trying to be set on a copy of a slice from a DataFrame\n",
            "\n",
            "See the caveats in the documentation: https://pandas.pydata.org/pandas-docs/stable/user_guide/indexing.html#returning-a-view-versus-a-copy\n",
            "  df.drop(labels=['normalized-losses'], axis=1, inplace=True)\n"
          ]
        }
      ],
      "source": [
        "df.drop(labels=['normalized-losses'], axis=1, inplace=True)"
      ]
    },
    {
      "cell_type": "code",
      "execution_count": null,
      "metadata": {
        "id": "lDJ3YfHkwoV-",
        "outputId": "83945425-cb28-4b63-81f2-b9c6a21252ce",
        "colab": {
          "base_uri": "https://localhost:8080/"
        }
      },
      "outputs": [
        {
          "output_type": "execute_result",
          "data": {
            "text/plain": [
              "Index(['symboling', 'make', 'fuel-type', 'aspiration', 'num-of-doors',\n",
              "       'body-style', 'drive-wheels', 'engine-location', 'wheel-base', 'length',\n",
              "       'width', 'height', 'curb-weight', 'engine-type', 'num-of-cylinders',\n",
              "       'engine-size', 'fuel-system', 'bore', 'stroke', 'compression-ratio',\n",
              "       'horsepower', 'peak-rpm', 'city-mpg', 'highway-mpg', 'price'],\n",
              "      dtype='object')"
            ]
          },
          "metadata": {},
          "execution_count": 28
        }
      ],
      "source": [
        "df.columns"
      ]
    },
    {
      "cell_type": "code",
      "execution_count": null,
      "metadata": {
        "id": "7-AF7fktwoV_"
      },
      "outputs": [],
      "source": [
        "# pd.set_option('display.max_columns', None)\n",
        "pd.set_option('display.max_columns', 10)"
      ]
    },
    {
      "cell_type": "code",
      "execution_count": null,
      "metadata": {
        "id": "jyXBjjVxwoV_",
        "outputId": "c39d5176-f9b3-4054-865b-2d107282cece",
        "colab": {
          "base_uri": "https://localhost:8080/",
          "height": 236
        }
      },
      "outputs": [
        {
          "output_type": "execute_result",
          "data": {
            "text/plain": [
              "   symboling         make fuel-type aspiration num-of-doors  ... horsepower  \\\n",
              "0          3  alfa-romero       gas        std          two  ...      111.0   \n",
              "1          3  alfa-romero       gas        std          two  ...      111.0   \n",
              "2          1  alfa-romero       gas        std          two  ...      154.0   \n",
              "3          2         audi       gas        std         four  ...      102.0   \n",
              "4          2         audi       gas        std         four  ...      115.0   \n",
              "\n",
              "  peak-rpm city-mpg  highway-mpg    price  \n",
              "0   5000.0       21           27  13495.0  \n",
              "1   5000.0       21           27  16500.0  \n",
              "2   5000.0       19           26  16500.0  \n",
              "3   5500.0       24           30  13950.0  \n",
              "4   5500.0       18           22  17450.0  \n",
              "\n",
              "[5 rows x 25 columns]"
            ],
            "text/html": [
              "\n",
              "\n",
              "  <div id=\"df-a762be37-4f29-46b2-8e91-9ba483c215a9\">\n",
              "    <div class=\"colab-df-container\">\n",
              "      <div>\n",
              "<style scoped>\n",
              "    .dataframe tbody tr th:only-of-type {\n",
              "        vertical-align: middle;\n",
              "    }\n",
              "\n",
              "    .dataframe tbody tr th {\n",
              "        vertical-align: top;\n",
              "    }\n",
              "\n",
              "    .dataframe thead th {\n",
              "        text-align: right;\n",
              "    }\n",
              "</style>\n",
              "<table border=\"1\" class=\"dataframe\">\n",
              "  <thead>\n",
              "    <tr style=\"text-align: right;\">\n",
              "      <th></th>\n",
              "      <th>symboling</th>\n",
              "      <th>make</th>\n",
              "      <th>fuel-type</th>\n",
              "      <th>aspiration</th>\n",
              "      <th>num-of-doors</th>\n",
              "      <th>...</th>\n",
              "      <th>horsepower</th>\n",
              "      <th>peak-rpm</th>\n",
              "      <th>city-mpg</th>\n",
              "      <th>highway-mpg</th>\n",
              "      <th>price</th>\n",
              "    </tr>\n",
              "  </thead>\n",
              "  <tbody>\n",
              "    <tr>\n",
              "      <th>0</th>\n",
              "      <td>3</td>\n",
              "      <td>alfa-romero</td>\n",
              "      <td>gas</td>\n",
              "      <td>std</td>\n",
              "      <td>two</td>\n",
              "      <td>...</td>\n",
              "      <td>111.0</td>\n",
              "      <td>5000.0</td>\n",
              "      <td>21</td>\n",
              "      <td>27</td>\n",
              "      <td>13495.0</td>\n",
              "    </tr>\n",
              "    <tr>\n",
              "      <th>1</th>\n",
              "      <td>3</td>\n",
              "      <td>alfa-romero</td>\n",
              "      <td>gas</td>\n",
              "      <td>std</td>\n",
              "      <td>two</td>\n",
              "      <td>...</td>\n",
              "      <td>111.0</td>\n",
              "      <td>5000.0</td>\n",
              "      <td>21</td>\n",
              "      <td>27</td>\n",
              "      <td>16500.0</td>\n",
              "    </tr>\n",
              "    <tr>\n",
              "      <th>2</th>\n",
              "      <td>1</td>\n",
              "      <td>alfa-romero</td>\n",
              "      <td>gas</td>\n",
              "      <td>std</td>\n",
              "      <td>two</td>\n",
              "      <td>...</td>\n",
              "      <td>154.0</td>\n",
              "      <td>5000.0</td>\n",
              "      <td>19</td>\n",
              "      <td>26</td>\n",
              "      <td>16500.0</td>\n",
              "    </tr>\n",
              "    <tr>\n",
              "      <th>3</th>\n",
              "      <td>2</td>\n",
              "      <td>audi</td>\n",
              "      <td>gas</td>\n",
              "      <td>std</td>\n",
              "      <td>four</td>\n",
              "      <td>...</td>\n",
              "      <td>102.0</td>\n",
              "      <td>5500.0</td>\n",
              "      <td>24</td>\n",
              "      <td>30</td>\n",
              "      <td>13950.0</td>\n",
              "    </tr>\n",
              "    <tr>\n",
              "      <th>4</th>\n",
              "      <td>2</td>\n",
              "      <td>audi</td>\n",
              "      <td>gas</td>\n",
              "      <td>std</td>\n",
              "      <td>four</td>\n",
              "      <td>...</td>\n",
              "      <td>115.0</td>\n",
              "      <td>5500.0</td>\n",
              "      <td>18</td>\n",
              "      <td>22</td>\n",
              "      <td>17450.0</td>\n",
              "    </tr>\n",
              "  </tbody>\n",
              "</table>\n",
              "<p>5 rows × 25 columns</p>\n",
              "</div>\n",
              "      <button class=\"colab-df-convert\" onclick=\"convertToInteractive('df-a762be37-4f29-46b2-8e91-9ba483c215a9')\"\n",
              "              title=\"Convert this dataframe to an interactive table.\"\n",
              "              style=\"display:none;\">\n",
              "\n",
              "  <svg xmlns=\"http://www.w3.org/2000/svg\" height=\"24px\"viewBox=\"0 0 24 24\"\n",
              "       width=\"24px\">\n",
              "    <path d=\"M0 0h24v24H0V0z\" fill=\"none\"/>\n",
              "    <path d=\"M18.56 5.44l.94 2.06.94-2.06 2.06-.94-2.06-.94-.94-2.06-.94 2.06-2.06.94zm-11 1L8.5 8.5l.94-2.06 2.06-.94-2.06-.94L8.5 2.5l-.94 2.06-2.06.94zm10 10l.94 2.06.94-2.06 2.06-.94-2.06-.94-.94-2.06-.94 2.06-2.06.94z\"/><path d=\"M17.41 7.96l-1.37-1.37c-.4-.4-.92-.59-1.43-.59-.52 0-1.04.2-1.43.59L10.3 9.45l-7.72 7.72c-.78.78-.78 2.05 0 2.83L4 21.41c.39.39.9.59 1.41.59.51 0 1.02-.2 1.41-.59l7.78-7.78 2.81-2.81c.8-.78.8-2.07 0-2.86zM5.41 20L4 18.59l7.72-7.72 1.47 1.35L5.41 20z\"/>\n",
              "  </svg>\n",
              "      </button>\n",
              "\n",
              "\n",
              "\n",
              "    <div id=\"df-44159f92-b71a-406e-80ce-e522aeda3ad3\">\n",
              "      <button class=\"colab-df-quickchart\" onclick=\"quickchart('df-44159f92-b71a-406e-80ce-e522aeda3ad3')\"\n",
              "              title=\"Suggest charts.\"\n",
              "              style=\"display:none;\">\n",
              "\n",
              "<svg xmlns=\"http://www.w3.org/2000/svg\" height=\"24px\"viewBox=\"0 0 24 24\"\n",
              "     width=\"24px\">\n",
              "    <g>\n",
              "        <path d=\"M19 3H5c-1.1 0-2 .9-2 2v14c0 1.1.9 2 2 2h14c1.1 0 2-.9 2-2V5c0-1.1-.9-2-2-2zM9 17H7v-7h2v7zm4 0h-2V7h2v10zm4 0h-2v-4h2v4z\"/>\n",
              "    </g>\n",
              "</svg>\n",
              "      </button>\n",
              "    </div>\n",
              "\n",
              "<style>\n",
              "  .colab-df-quickchart {\n",
              "    background-color: #E8F0FE;\n",
              "    border: none;\n",
              "    border-radius: 50%;\n",
              "    cursor: pointer;\n",
              "    display: none;\n",
              "    fill: #1967D2;\n",
              "    height: 32px;\n",
              "    padding: 0 0 0 0;\n",
              "    width: 32px;\n",
              "  }\n",
              "\n",
              "  .colab-df-quickchart:hover {\n",
              "    background-color: #E2EBFA;\n",
              "    box-shadow: 0px 1px 2px rgba(60, 64, 67, 0.3), 0px 1px 3px 1px rgba(60, 64, 67, 0.15);\n",
              "    fill: #174EA6;\n",
              "  }\n",
              "\n",
              "  [theme=dark] .colab-df-quickchart {\n",
              "    background-color: #3B4455;\n",
              "    fill: #D2E3FC;\n",
              "  }\n",
              "\n",
              "  [theme=dark] .colab-df-quickchart:hover {\n",
              "    background-color: #434B5C;\n",
              "    box-shadow: 0px 1px 3px 1px rgba(0, 0, 0, 0.15);\n",
              "    filter: drop-shadow(0px 1px 2px rgba(0, 0, 0, 0.3));\n",
              "    fill: #FFFFFF;\n",
              "  }\n",
              "</style>\n",
              "\n",
              "    <script>\n",
              "      async function quickchart(key) {\n",
              "        const containerElement = document.querySelector('#' + key);\n",
              "        const charts = await google.colab.kernel.invokeFunction(\n",
              "            'suggestCharts', [key], {});\n",
              "      }\n",
              "    </script>\n",
              "\n",
              "      <script>\n",
              "\n",
              "function displayQuickchartButton(domScope) {\n",
              "  let quickchartButtonEl =\n",
              "    domScope.querySelector('#df-44159f92-b71a-406e-80ce-e522aeda3ad3 button.colab-df-quickchart');\n",
              "  quickchartButtonEl.style.display =\n",
              "    google.colab.kernel.accessAllowed ? 'block' : 'none';\n",
              "}\n",
              "\n",
              "        displayQuickchartButton(document);\n",
              "      </script>\n",
              "      <style>\n",
              "    .colab-df-container {\n",
              "      display:flex;\n",
              "      flex-wrap:wrap;\n",
              "      gap: 12px;\n",
              "    }\n",
              "\n",
              "    .colab-df-convert {\n",
              "      background-color: #E8F0FE;\n",
              "      border: none;\n",
              "      border-radius: 50%;\n",
              "      cursor: pointer;\n",
              "      display: none;\n",
              "      fill: #1967D2;\n",
              "      height: 32px;\n",
              "      padding: 0 0 0 0;\n",
              "      width: 32px;\n",
              "    }\n",
              "\n",
              "    .colab-df-convert:hover {\n",
              "      background-color: #E2EBFA;\n",
              "      box-shadow: 0px 1px 2px rgba(60, 64, 67, 0.3), 0px 1px 3px 1px rgba(60, 64, 67, 0.15);\n",
              "      fill: #174EA6;\n",
              "    }\n",
              "\n",
              "    [theme=dark] .colab-df-convert {\n",
              "      background-color: #3B4455;\n",
              "      fill: #D2E3FC;\n",
              "    }\n",
              "\n",
              "    [theme=dark] .colab-df-convert:hover {\n",
              "      background-color: #434B5C;\n",
              "      box-shadow: 0px 1px 3px 1px rgba(0, 0, 0, 0.15);\n",
              "      filter: drop-shadow(0px 1px 2px rgba(0, 0, 0, 0.3));\n",
              "      fill: #FFFFFF;\n",
              "    }\n",
              "  </style>\n",
              "\n",
              "      <script>\n",
              "        const buttonEl =\n",
              "          document.querySelector('#df-a762be37-4f29-46b2-8e91-9ba483c215a9 button.colab-df-convert');\n",
              "        buttonEl.style.display =\n",
              "          google.colab.kernel.accessAllowed ? 'block' : 'none';\n",
              "\n",
              "        async function convertToInteractive(key) {\n",
              "          const element = document.querySelector('#df-a762be37-4f29-46b2-8e91-9ba483c215a9');\n",
              "          const dataTable =\n",
              "            await google.colab.kernel.invokeFunction('convertToInteractive',\n",
              "                                                     [key], {});\n",
              "          if (!dataTable) return;\n",
              "\n",
              "          const docLinkHtml = 'Like what you see? Visit the ' +\n",
              "            '<a target=\"_blank\" href=https://colab.research.google.com/notebooks/data_table.ipynb>data table notebook</a>'\n",
              "            + ' to learn more about interactive tables.';\n",
              "          element.innerHTML = '';\n",
              "          dataTable['output_type'] = 'display_data';\n",
              "          await google.colab.output.renderOutput(dataTable, element);\n",
              "          const docLink = document.createElement('div');\n",
              "          docLink.innerHTML = docLinkHtml;\n",
              "          element.appendChild(docLink);\n",
              "        }\n",
              "      </script>\n",
              "    </div>\n",
              "  </div>\n"
            ]
          },
          "metadata": {},
          "execution_count": 30
        }
      ],
      "source": [
        "df.head(5)"
      ]
    },
    {
      "cell_type": "code",
      "execution_count": null,
      "metadata": {
        "id": "k1dXlWOjwoV_"
      },
      "outputs": [],
      "source": [
        "features = {\n",
        "    'categorical': [\n",
        "        'make', 'fuel-type', 'aspiration', 'num-of-doors',\n",
        "        'body-style', 'drive-wheels', 'engine-location',\n",
        "        'engine-type', 'num-of-cylinders', 'fuel-system',\n",
        "\n",
        "    ],\n",
        "    'numerical': [\n",
        "        'symboling', 'wheel-base', 'length', 'width', 'height',\n",
        "        'curb-weight', 'engine-size', 'bore', 'stroke',\n",
        "        'compression-ratio', 'horsepower', 'peak-rpm',\n",
        "        'city-mpg', 'highway-mpg',\n",
        "    ],\n",
        "}\n",
        "\n",
        "features['all'] = features['categorical'] + features['numerical']\n",
        "\n",
        "target = 'price'"
      ]
    },
    {
      "cell_type": "code",
      "execution_count": null,
      "metadata": {
        "id": "JwjOFFQuwoWA",
        "colab": {
          "base_uri": "https://localhost:8080/"
        },
        "outputId": "beac28b8-1ef7-49da-d5b9-96871aa0d25e"
      },
      "outputs": [
        {
          "output_type": "stream",
          "name": "stderr",
          "text": [
            "<ipython-input-32-52188301eb63>:1: SettingWithCopyWarning: \n",
            "A value is trying to be set on a copy of a slice from a DataFrame.\n",
            "Try using .loc[row_indexer,col_indexer] = value instead\n",
            "\n",
            "See the caveats in the documentation: https://pandas.pydata.org/pandas-docs/stable/user_guide/indexing.html#returning-a-view-versus-a-copy\n",
            "  df[target] = df[target].astype(np.float64) / 1000\n"
          ]
        }
      ],
      "source": [
        "df[target] = df[target].astype(np.float64) / 1000"
      ]
    },
    {
      "cell_type": "code",
      "execution_count": null,
      "metadata": {
        "id": "UcRWjyE6woWA",
        "outputId": "c976785a-ba87-469f-fb23-7c7e08ec4e6c",
        "colab": {
          "base_uri": "https://localhost:8080/",
          "height": 143
        }
      },
      "outputs": [
        {
          "output_type": "execute_result",
          "data": {
            "text/plain": [
              "      make fuel-type aspiration num-of-doors body-style drive-wheels  \\\n",
              "98  nissan       gas        std          two    hardtop          fwd   \n",
              "16     bmw       gas        std          two      sedan          rwd   \n",
              "31   honda       gas        std          two  hatchback          fwd   \n",
              "\n",
              "   engine-location engine-type num-of-cylinders fuel-system  \n",
              "98           front         ohc             four        2bbl  \n",
              "16           front         ohc              six        mpfi  \n",
              "31           front         ohc             four        1bbl  "
            ],
            "text/html": [
              "\n",
              "\n",
              "  <div id=\"df-f49e2a6a-3c3d-46f1-9837-0a811161a5c0\">\n",
              "    <div class=\"colab-df-container\">\n",
              "      <div>\n",
              "<style scoped>\n",
              "    .dataframe tbody tr th:only-of-type {\n",
              "        vertical-align: middle;\n",
              "    }\n",
              "\n",
              "    .dataframe tbody tr th {\n",
              "        vertical-align: top;\n",
              "    }\n",
              "\n",
              "    .dataframe thead th {\n",
              "        text-align: right;\n",
              "    }\n",
              "</style>\n",
              "<table border=\"1\" class=\"dataframe\">\n",
              "  <thead>\n",
              "    <tr style=\"text-align: right;\">\n",
              "      <th></th>\n",
              "      <th>make</th>\n",
              "      <th>fuel-type</th>\n",
              "      <th>aspiration</th>\n",
              "      <th>num-of-doors</th>\n",
              "      <th>body-style</th>\n",
              "      <th>drive-wheels</th>\n",
              "      <th>engine-location</th>\n",
              "      <th>engine-type</th>\n",
              "      <th>num-of-cylinders</th>\n",
              "      <th>fuel-system</th>\n",
              "    </tr>\n",
              "  </thead>\n",
              "  <tbody>\n",
              "    <tr>\n",
              "      <th>98</th>\n",
              "      <td>nissan</td>\n",
              "      <td>gas</td>\n",
              "      <td>std</td>\n",
              "      <td>two</td>\n",
              "      <td>hardtop</td>\n",
              "      <td>fwd</td>\n",
              "      <td>front</td>\n",
              "      <td>ohc</td>\n",
              "      <td>four</td>\n",
              "      <td>2bbl</td>\n",
              "    </tr>\n",
              "    <tr>\n",
              "      <th>16</th>\n",
              "      <td>bmw</td>\n",
              "      <td>gas</td>\n",
              "      <td>std</td>\n",
              "      <td>two</td>\n",
              "      <td>sedan</td>\n",
              "      <td>rwd</td>\n",
              "      <td>front</td>\n",
              "      <td>ohc</td>\n",
              "      <td>six</td>\n",
              "      <td>mpfi</td>\n",
              "    </tr>\n",
              "    <tr>\n",
              "      <th>31</th>\n",
              "      <td>honda</td>\n",
              "      <td>gas</td>\n",
              "      <td>std</td>\n",
              "      <td>two</td>\n",
              "      <td>hatchback</td>\n",
              "      <td>fwd</td>\n",
              "      <td>front</td>\n",
              "      <td>ohc</td>\n",
              "      <td>four</td>\n",
              "      <td>1bbl</td>\n",
              "    </tr>\n",
              "  </tbody>\n",
              "</table>\n",
              "</div>\n",
              "      <button class=\"colab-df-convert\" onclick=\"convertToInteractive('df-f49e2a6a-3c3d-46f1-9837-0a811161a5c0')\"\n",
              "              title=\"Convert this dataframe to an interactive table.\"\n",
              "              style=\"display:none;\">\n",
              "\n",
              "  <svg xmlns=\"http://www.w3.org/2000/svg\" height=\"24px\"viewBox=\"0 0 24 24\"\n",
              "       width=\"24px\">\n",
              "    <path d=\"M0 0h24v24H0V0z\" fill=\"none\"/>\n",
              "    <path d=\"M18.56 5.44l.94 2.06.94-2.06 2.06-.94-2.06-.94-.94-2.06-.94 2.06-2.06.94zm-11 1L8.5 8.5l.94-2.06 2.06-.94-2.06-.94L8.5 2.5l-.94 2.06-2.06.94zm10 10l.94 2.06.94-2.06 2.06-.94-2.06-.94-.94-2.06-.94 2.06-2.06.94z\"/><path d=\"M17.41 7.96l-1.37-1.37c-.4-.4-.92-.59-1.43-.59-.52 0-1.04.2-1.43.59L10.3 9.45l-7.72 7.72c-.78.78-.78 2.05 0 2.83L4 21.41c.39.39.9.59 1.41.59.51 0 1.02-.2 1.41-.59l7.78-7.78 2.81-2.81c.8-.78.8-2.07 0-2.86zM5.41 20L4 18.59l7.72-7.72 1.47 1.35L5.41 20z\"/>\n",
              "  </svg>\n",
              "      </button>\n",
              "\n",
              "\n",
              "\n",
              "    <div id=\"df-f3357fb3-867c-42a1-8cc7-dff9824d268b\">\n",
              "      <button class=\"colab-df-quickchart\" onclick=\"quickchart('df-f3357fb3-867c-42a1-8cc7-dff9824d268b')\"\n",
              "              title=\"Suggest charts.\"\n",
              "              style=\"display:none;\">\n",
              "\n",
              "<svg xmlns=\"http://www.w3.org/2000/svg\" height=\"24px\"viewBox=\"0 0 24 24\"\n",
              "     width=\"24px\">\n",
              "    <g>\n",
              "        <path d=\"M19 3H5c-1.1 0-2 .9-2 2v14c0 1.1.9 2 2 2h14c1.1 0 2-.9 2-2V5c0-1.1-.9-2-2-2zM9 17H7v-7h2v7zm4 0h-2V7h2v10zm4 0h-2v-4h2v4z\"/>\n",
              "    </g>\n",
              "</svg>\n",
              "      </button>\n",
              "    </div>\n",
              "\n",
              "<style>\n",
              "  .colab-df-quickchart {\n",
              "    background-color: #E8F0FE;\n",
              "    border: none;\n",
              "    border-radius: 50%;\n",
              "    cursor: pointer;\n",
              "    display: none;\n",
              "    fill: #1967D2;\n",
              "    height: 32px;\n",
              "    padding: 0 0 0 0;\n",
              "    width: 32px;\n",
              "  }\n",
              "\n",
              "  .colab-df-quickchart:hover {\n",
              "    background-color: #E2EBFA;\n",
              "    box-shadow: 0px 1px 2px rgba(60, 64, 67, 0.3), 0px 1px 3px 1px rgba(60, 64, 67, 0.15);\n",
              "    fill: #174EA6;\n",
              "  }\n",
              "\n",
              "  [theme=dark] .colab-df-quickchart {\n",
              "    background-color: #3B4455;\n",
              "    fill: #D2E3FC;\n",
              "  }\n",
              "\n",
              "  [theme=dark] .colab-df-quickchart:hover {\n",
              "    background-color: #434B5C;\n",
              "    box-shadow: 0px 1px 3px 1px rgba(0, 0, 0, 0.15);\n",
              "    filter: drop-shadow(0px 1px 2px rgba(0, 0, 0, 0.3));\n",
              "    fill: #FFFFFF;\n",
              "  }\n",
              "</style>\n",
              "\n",
              "    <script>\n",
              "      async function quickchart(key) {\n",
              "        const containerElement = document.querySelector('#' + key);\n",
              "        const charts = await google.colab.kernel.invokeFunction(\n",
              "            'suggestCharts', [key], {});\n",
              "      }\n",
              "    </script>\n",
              "\n",
              "      <script>\n",
              "\n",
              "function displayQuickchartButton(domScope) {\n",
              "  let quickchartButtonEl =\n",
              "    domScope.querySelector('#df-f3357fb3-867c-42a1-8cc7-dff9824d268b button.colab-df-quickchart');\n",
              "  quickchartButtonEl.style.display =\n",
              "    google.colab.kernel.accessAllowed ? 'block' : 'none';\n",
              "}\n",
              "\n",
              "        displayQuickchartButton(document);\n",
              "      </script>\n",
              "      <style>\n",
              "    .colab-df-container {\n",
              "      display:flex;\n",
              "      flex-wrap:wrap;\n",
              "      gap: 12px;\n",
              "    }\n",
              "\n",
              "    .colab-df-convert {\n",
              "      background-color: #E8F0FE;\n",
              "      border: none;\n",
              "      border-radius: 50%;\n",
              "      cursor: pointer;\n",
              "      display: none;\n",
              "      fill: #1967D2;\n",
              "      height: 32px;\n",
              "      padding: 0 0 0 0;\n",
              "      width: 32px;\n",
              "    }\n",
              "\n",
              "    .colab-df-convert:hover {\n",
              "      background-color: #E2EBFA;\n",
              "      box-shadow: 0px 1px 2px rgba(60, 64, 67, 0.3), 0px 1px 3px 1px rgba(60, 64, 67, 0.15);\n",
              "      fill: #174EA6;\n",
              "    }\n",
              "\n",
              "    [theme=dark] .colab-df-convert {\n",
              "      background-color: #3B4455;\n",
              "      fill: #D2E3FC;\n",
              "    }\n",
              "\n",
              "    [theme=dark] .colab-df-convert:hover {\n",
              "      background-color: #434B5C;\n",
              "      box-shadow: 0px 1px 3px 1px rgba(0, 0, 0, 0.15);\n",
              "      filter: drop-shadow(0px 1px 2px rgba(0, 0, 0, 0.3));\n",
              "      fill: #FFFFFF;\n",
              "    }\n",
              "  </style>\n",
              "\n",
              "      <script>\n",
              "        const buttonEl =\n",
              "          document.querySelector('#df-f49e2a6a-3c3d-46f1-9837-0a811161a5c0 button.colab-df-convert');\n",
              "        buttonEl.style.display =\n",
              "          google.colab.kernel.accessAllowed ? 'block' : 'none';\n",
              "\n",
              "        async function convertToInteractive(key) {\n",
              "          const element = document.querySelector('#df-f49e2a6a-3c3d-46f1-9837-0a811161a5c0');\n",
              "          const dataTable =\n",
              "            await google.colab.kernel.invokeFunction('convertToInteractive',\n",
              "                                                     [key], {});\n",
              "          if (!dataTable) return;\n",
              "\n",
              "          const docLinkHtml = 'Like what you see? Visit the ' +\n",
              "            '<a target=\"_blank\" href=https://colab.research.google.com/notebooks/data_table.ipynb>data table notebook</a>'\n",
              "            + ' to learn more about interactive tables.';\n",
              "          element.innerHTML = '';\n",
              "          dataTable['output_type'] = 'display_data';\n",
              "          await google.colab.output.renderOutput(dataTable, element);\n",
              "          const docLink = document.createElement('div');\n",
              "          docLink.innerHTML = docLinkHtml;\n",
              "          element.appendChild(docLink);\n",
              "        }\n",
              "      </script>\n",
              "    </div>\n",
              "  </div>\n"
            ]
          },
          "metadata": {},
          "execution_count": 33
        }
      ],
      "source": [
        "df[features['categorical']].sample(n=3, random_state=42)"
      ]
    },
    {
      "cell_type": "code",
      "execution_count": null,
      "metadata": {
        "id": "VoNE8DvNwoWA",
        "outputId": "cbbe8b43-9495-4666-d484-d0992d85bef2",
        "colab": {
          "base_uri": "https://localhost:8080/",
          "height": 173
        }
      },
      "outputs": [
        {
          "output_type": "execute_result",
          "data": {
            "text/plain": [
              "   symboling  wheel-base  length  width  height  ...  compression-ratio  \\\n",
              "0          3        88.6   168.8   64.1    48.8  ...                9.0   \n",
              "1          3        88.6   168.8   64.1    48.8  ...                9.0   \n",
              "2          1        94.5   171.2   65.5    52.4  ...                9.0   \n",
              "\n",
              "   horsepower  peak-rpm  city-mpg  highway-mpg  \n",
              "0       111.0    5000.0        21           27  \n",
              "1       111.0    5000.0        21           27  \n",
              "2       154.0    5000.0        19           26  \n",
              "\n",
              "[3 rows x 14 columns]"
            ],
            "text/html": [
              "\n",
              "\n",
              "  <div id=\"df-92a8c9ba-0169-4428-918a-13faa4847e1a\">\n",
              "    <div class=\"colab-df-container\">\n",
              "      <div>\n",
              "<style scoped>\n",
              "    .dataframe tbody tr th:only-of-type {\n",
              "        vertical-align: middle;\n",
              "    }\n",
              "\n",
              "    .dataframe tbody tr th {\n",
              "        vertical-align: top;\n",
              "    }\n",
              "\n",
              "    .dataframe thead th {\n",
              "        text-align: right;\n",
              "    }\n",
              "</style>\n",
              "<table border=\"1\" class=\"dataframe\">\n",
              "  <thead>\n",
              "    <tr style=\"text-align: right;\">\n",
              "      <th></th>\n",
              "      <th>symboling</th>\n",
              "      <th>wheel-base</th>\n",
              "      <th>length</th>\n",
              "      <th>width</th>\n",
              "      <th>height</th>\n",
              "      <th>...</th>\n",
              "      <th>compression-ratio</th>\n",
              "      <th>horsepower</th>\n",
              "      <th>peak-rpm</th>\n",
              "      <th>city-mpg</th>\n",
              "      <th>highway-mpg</th>\n",
              "    </tr>\n",
              "  </thead>\n",
              "  <tbody>\n",
              "    <tr>\n",
              "      <th>0</th>\n",
              "      <td>3</td>\n",
              "      <td>88.6</td>\n",
              "      <td>168.8</td>\n",
              "      <td>64.1</td>\n",
              "      <td>48.8</td>\n",
              "      <td>...</td>\n",
              "      <td>9.0</td>\n",
              "      <td>111.0</td>\n",
              "      <td>5000.0</td>\n",
              "      <td>21</td>\n",
              "      <td>27</td>\n",
              "    </tr>\n",
              "    <tr>\n",
              "      <th>1</th>\n",
              "      <td>3</td>\n",
              "      <td>88.6</td>\n",
              "      <td>168.8</td>\n",
              "      <td>64.1</td>\n",
              "      <td>48.8</td>\n",
              "      <td>...</td>\n",
              "      <td>9.0</td>\n",
              "      <td>111.0</td>\n",
              "      <td>5000.0</td>\n",
              "      <td>21</td>\n",
              "      <td>27</td>\n",
              "    </tr>\n",
              "    <tr>\n",
              "      <th>2</th>\n",
              "      <td>1</td>\n",
              "      <td>94.5</td>\n",
              "      <td>171.2</td>\n",
              "      <td>65.5</td>\n",
              "      <td>52.4</td>\n",
              "      <td>...</td>\n",
              "      <td>9.0</td>\n",
              "      <td>154.0</td>\n",
              "      <td>5000.0</td>\n",
              "      <td>19</td>\n",
              "      <td>26</td>\n",
              "    </tr>\n",
              "  </tbody>\n",
              "</table>\n",
              "<p>3 rows × 14 columns</p>\n",
              "</div>\n",
              "      <button class=\"colab-df-convert\" onclick=\"convertToInteractive('df-92a8c9ba-0169-4428-918a-13faa4847e1a')\"\n",
              "              title=\"Convert this dataframe to an interactive table.\"\n",
              "              style=\"display:none;\">\n",
              "\n",
              "  <svg xmlns=\"http://www.w3.org/2000/svg\" height=\"24px\"viewBox=\"0 0 24 24\"\n",
              "       width=\"24px\">\n",
              "    <path d=\"M0 0h24v24H0V0z\" fill=\"none\"/>\n",
              "    <path d=\"M18.56 5.44l.94 2.06.94-2.06 2.06-.94-2.06-.94-.94-2.06-.94 2.06-2.06.94zm-11 1L8.5 8.5l.94-2.06 2.06-.94-2.06-.94L8.5 2.5l-.94 2.06-2.06.94zm10 10l.94 2.06.94-2.06 2.06-.94-2.06-.94-.94-2.06-.94 2.06-2.06.94z\"/><path d=\"M17.41 7.96l-1.37-1.37c-.4-.4-.92-.59-1.43-.59-.52 0-1.04.2-1.43.59L10.3 9.45l-7.72 7.72c-.78.78-.78 2.05 0 2.83L4 21.41c.39.39.9.59 1.41.59.51 0 1.02-.2 1.41-.59l7.78-7.78 2.81-2.81c.8-.78.8-2.07 0-2.86zM5.41 20L4 18.59l7.72-7.72 1.47 1.35L5.41 20z\"/>\n",
              "  </svg>\n",
              "      </button>\n",
              "\n",
              "\n",
              "\n",
              "    <div id=\"df-45336f6f-17aa-445b-989c-2f3c72e683fa\">\n",
              "      <button class=\"colab-df-quickchart\" onclick=\"quickchart('df-45336f6f-17aa-445b-989c-2f3c72e683fa')\"\n",
              "              title=\"Suggest charts.\"\n",
              "              style=\"display:none;\">\n",
              "\n",
              "<svg xmlns=\"http://www.w3.org/2000/svg\" height=\"24px\"viewBox=\"0 0 24 24\"\n",
              "     width=\"24px\">\n",
              "    <g>\n",
              "        <path d=\"M19 3H5c-1.1 0-2 .9-2 2v14c0 1.1.9 2 2 2h14c1.1 0 2-.9 2-2V5c0-1.1-.9-2-2-2zM9 17H7v-7h2v7zm4 0h-2V7h2v10zm4 0h-2v-4h2v4z\"/>\n",
              "    </g>\n",
              "</svg>\n",
              "      </button>\n",
              "    </div>\n",
              "\n",
              "<style>\n",
              "  .colab-df-quickchart {\n",
              "    background-color: #E8F0FE;\n",
              "    border: none;\n",
              "    border-radius: 50%;\n",
              "    cursor: pointer;\n",
              "    display: none;\n",
              "    fill: #1967D2;\n",
              "    height: 32px;\n",
              "    padding: 0 0 0 0;\n",
              "    width: 32px;\n",
              "  }\n",
              "\n",
              "  .colab-df-quickchart:hover {\n",
              "    background-color: #E2EBFA;\n",
              "    box-shadow: 0px 1px 2px rgba(60, 64, 67, 0.3), 0px 1px 3px 1px rgba(60, 64, 67, 0.15);\n",
              "    fill: #174EA6;\n",
              "  }\n",
              "\n",
              "  [theme=dark] .colab-df-quickchart {\n",
              "    background-color: #3B4455;\n",
              "    fill: #D2E3FC;\n",
              "  }\n",
              "\n",
              "  [theme=dark] .colab-df-quickchart:hover {\n",
              "    background-color: #434B5C;\n",
              "    box-shadow: 0px 1px 3px 1px rgba(0, 0, 0, 0.15);\n",
              "    filter: drop-shadow(0px 1px 2px rgba(0, 0, 0, 0.3));\n",
              "    fill: #FFFFFF;\n",
              "  }\n",
              "</style>\n",
              "\n",
              "    <script>\n",
              "      async function quickchart(key) {\n",
              "        const containerElement = document.querySelector('#' + key);\n",
              "        const charts = await google.colab.kernel.invokeFunction(\n",
              "            'suggestCharts', [key], {});\n",
              "      }\n",
              "    </script>\n",
              "\n",
              "      <script>\n",
              "\n",
              "function displayQuickchartButton(domScope) {\n",
              "  let quickchartButtonEl =\n",
              "    domScope.querySelector('#df-45336f6f-17aa-445b-989c-2f3c72e683fa button.colab-df-quickchart');\n",
              "  quickchartButtonEl.style.display =\n",
              "    google.colab.kernel.accessAllowed ? 'block' : 'none';\n",
              "}\n",
              "\n",
              "        displayQuickchartButton(document);\n",
              "      </script>\n",
              "      <style>\n",
              "    .colab-df-container {\n",
              "      display:flex;\n",
              "      flex-wrap:wrap;\n",
              "      gap: 12px;\n",
              "    }\n",
              "\n",
              "    .colab-df-convert {\n",
              "      background-color: #E8F0FE;\n",
              "      border: none;\n",
              "      border-radius: 50%;\n",
              "      cursor: pointer;\n",
              "      display: none;\n",
              "      fill: #1967D2;\n",
              "      height: 32px;\n",
              "      padding: 0 0 0 0;\n",
              "      width: 32px;\n",
              "    }\n",
              "\n",
              "    .colab-df-convert:hover {\n",
              "      background-color: #E2EBFA;\n",
              "      box-shadow: 0px 1px 2px rgba(60, 64, 67, 0.3), 0px 1px 3px 1px rgba(60, 64, 67, 0.15);\n",
              "      fill: #174EA6;\n",
              "    }\n",
              "\n",
              "    [theme=dark] .colab-df-convert {\n",
              "      background-color: #3B4455;\n",
              "      fill: #D2E3FC;\n",
              "    }\n",
              "\n",
              "    [theme=dark] .colab-df-convert:hover {\n",
              "      background-color: #434B5C;\n",
              "      box-shadow: 0px 1px 3px 1px rgba(0, 0, 0, 0.15);\n",
              "      filter: drop-shadow(0px 1px 2px rgba(0, 0, 0, 0.3));\n",
              "      fill: #FFFFFF;\n",
              "    }\n",
              "  </style>\n",
              "\n",
              "      <script>\n",
              "        const buttonEl =\n",
              "          document.querySelector('#df-92a8c9ba-0169-4428-918a-13faa4847e1a button.colab-df-convert');\n",
              "        buttonEl.style.display =\n",
              "          google.colab.kernel.accessAllowed ? 'block' : 'none';\n",
              "\n",
              "        async function convertToInteractive(key) {\n",
              "          const element = document.querySelector('#df-92a8c9ba-0169-4428-918a-13faa4847e1a');\n",
              "          const dataTable =\n",
              "            await google.colab.kernel.invokeFunction('convertToInteractive',\n",
              "                                                     [key], {});\n",
              "          if (!dataTable) return;\n",
              "\n",
              "          const docLinkHtml = 'Like what you see? Visit the ' +\n",
              "            '<a target=\"_blank\" href=https://colab.research.google.com/notebooks/data_table.ipynb>data table notebook</a>'\n",
              "            + ' to learn more about interactive tables.';\n",
              "          element.innerHTML = '';\n",
              "          dataTable['output_type'] = 'display_data';\n",
              "          await google.colab.output.renderOutput(dataTable, element);\n",
              "          const docLink = document.createElement('div');\n",
              "          docLink.innerHTML = docLinkHtml;\n",
              "          element.appendChild(docLink);\n",
              "        }\n",
              "      </script>\n",
              "    </div>\n",
              "  </div>\n"
            ]
          },
          "metadata": {},
          "execution_count": 34
        }
      ],
      "source": [
        "df[features['numerical']].head(3)"
      ]
    },
    {
      "cell_type": "code",
      "execution_count": null,
      "metadata": {
        "id": "ejQrVzk4woWA"
      },
      "outputs": [],
      "source": [
        "from sklearn.model_selection import train_test_split\n",
        "\n",
        "df_train, df_test = train_test_split(df, test_size=0.25, random_state=22)"
      ]
    },
    {
      "cell_type": "code",
      "execution_count": null,
      "metadata": {
        "id": "ljEUfhYdwoWB"
      },
      "outputs": [],
      "source": [
        "x_train = df_train[features['all']]\n",
        "x_test  = df_test[features['all']]\n",
        "\n",
        "y_train = df_train[target]\n",
        "y_test  = df_test[target]"
      ]
    },
    {
      "cell_type": "code",
      "execution_count": null,
      "metadata": {
        "id": "qQN8WPnKwoWB",
        "outputId": "ec5b1efa-2ff3-445b-d286-ad157bacdd68",
        "colab": {
          "base_uri": "https://localhost:8080/"
        }
      },
      "outputs": [
        {
          "output_type": "execute_result",
          "data": {
            "text/plain": [
              "count    150.000000\n",
              "mean      13.724267\n",
              "std        8.224519\n",
              "min        5.118000\n",
              "25%        7.961500\n",
              "50%       11.072000\n",
              "75%       16.678750\n",
              "max       45.400000\n",
              "Name: price, dtype: float64"
            ]
          },
          "metadata": {},
          "execution_count": 37
        }
      ],
      "source": [
        "y_train.describe()"
      ]
    },
    {
      "cell_type": "code",
      "execution_count": null,
      "metadata": {
        "id": "rxSzvB35woWB",
        "outputId": "618f390a-ea63-4072-da6f-7de4fc7376a6",
        "colab": {
          "base_uri": "https://localhost:8080/",
          "height": 487
        }
      },
      "outputs": [
        {
          "output_type": "display_data",
          "data": {
            "text/plain": [
              "<Figure size 1600x500 with 1 Axes>"
            ],
            "image/png": "[encoded data removed]"
          },
          "metadata": {}
        }
      ],
      "source": [
        "fig, ax = plt.subplots(1, 1, figsize=(16, 5), sharey=False)\n",
        "\n",
        "y_train.plot(\n",
        "    title=\"Distribution of Car Prices (in 1000's)\",\n",
        "    kind='hist',\n",
        "    bins=11,\n",
        "    color='k',\n",
        "    ax=ax\n",
        ")\n",
        "\n",
        "ax.set_xlabel('Car Price / 1000')\n",
        "\n",
        "fig.show()"
      ]
    },
    {
      "cell_type": "code",
      "execution_count": null,
      "metadata": {
        "id": "YlaHEeJkwoWC"
      },
      "outputs": [],
      "source": [
        "from sklearn.impute import SimpleImputer\n",
        "\n",
        "imp = SimpleImputer(missing_values=np.nan, strategy='most_frequent')\n",
        "\n",
        "x_train = imp.fit_transform(x_train)\n",
        "x_test = imp.transform(x_test)\n",
        "\n",
        "x_train = pd.DataFrame(x_train, columns=features['all'])\n",
        "x_test = pd.DataFrame(x_test, columns=features['all'])"
      ]
    },
    {
      "cell_type": "code",
      "execution_count": null,
      "metadata": {
        "id": "8X9fmZ6ewoWC"
      },
      "outputs": [],
      "source": [
        "from sklearn.base import BaseEstimator, TransformerMixin\n",
        "\n",
        "class ColumnNamesKeeper(TransformerMixin, BaseEstimator):\n",
        "\n",
        "    def __init__(self, transformer):\n",
        "        self._columns = None\n",
        "        self.transformer = transformer\n",
        "\n",
        "    def __repr__(self):\n",
        "        return repr(self.transformer)\n",
        "\n",
        "    def fit(self, x, y=None):\n",
        "        self._columns = x.columns\n",
        "        self.transformer.fit(x)\n",
        "\n",
        "    def transform(self, x, y=None):\n",
        "        x = self.transformer.transform(x)\n",
        "        return pd.DataFrame(x, columns=self._columns)\n",
        "\n",
        "    def fit_transform(self, x, y=None):\n",
        "        self.fit(x, y)\n",
        "        return self.transform(x)"
      ]
    },
    {
      "cell_type": "code",
      "execution_count": null,
      "metadata": {
        "id": "IheTGHTKwoWC"
      },
      "outputs": [],
      "source": [
        "from sklearn.impute import SimpleImputer\n",
        "\n",
        "imp = ColumnNamesKeeper(\n",
        "    SimpleImputer(missing_values=np.nan, strategy='most_frequent')\n",
        ")\n",
        "\n",
        "x_train = imp.fit_transform(x_train)\n",
        "x_test = imp.transform(x_test)"
      ]
    },
    {
      "cell_type": "code",
      "execution_count": null,
      "metadata": {
        "id": "TCT8SNGxwoWC",
        "outputId": "ea9c4be1-e405-4ad4-b9de-da8c11c3f7a8",
        "colab": {
          "base_uri": "https://localhost:8080/"
        }
      },
      "outputs": [
        {
          "output_type": "stream",
          "name": "stdout",
          "text": [
            "Missing values in train: 0, and in test: 0\n"
          ]
        }
      ],
      "source": [
        "print(\n",
        "    'Missing values in train: {}, and in test: {}'.format(\n",
        "        x_train.isnull().sum().sum(),\n",
        "        x_test.isnull().sum().sum(),\n",
        "    )\n",
        ")"
      ]
    },
    {
      "cell_type": "code",
      "execution_count": null,
      "metadata": {
        "id": "-PCFAZcWwoWD",
        "outputId": "d8a64885-11d7-4676-ad0b-8134c9e4e5d9",
        "colab": {
          "base_uri": "https://localhost:8080/",
          "height": 204
        }
      },
      "outputs": [
        {
          "output_type": "execute_result",
          "data": {
            "text/plain": [
              "         make fuel-type aspiration num-of-doors body-style  ...  \\\n",
              "0  volkswagen    diesel        std         four      sedan  ...   \n",
              "1     mercury       gas      turbo          two  hatchback  ...   \n",
              "2      nissan       gas        std         four      wagon  ...   \n",
              "3      toyota       gas        std          two  hatchback  ...   \n",
              "\n",
              "  compression-ratio horsepower peak-rpm city-mpg highway-mpg  \n",
              "0              23.0       52.0   4800.0       37          46  \n",
              "1               8.0      175.0   5000.0       19          24  \n",
              "2               9.4       69.0   5200.0       31          37  \n",
              "3               9.3      161.0   5200.0       20          24  \n",
              "\n",
              "[4 rows x 24 columns]"
            ],
            "text/html": [
              "\n",
              "\n",
              "  <div id=\"df-24952084-12db-4ece-9eb9-5c1fc707ee8f\">\n",
              "    <div class=\"colab-df-container\">\n",
              "      <div>\n",
              "<style scoped>\n",
              "    .dataframe tbody tr th:only-of-type {\n",
              "        vertical-align: middle;\n",
              "    }\n",
              "\n",
              "    .dataframe tbody tr th {\n",
              "        vertical-align: top;\n",
              "    }\n",
              "\n",
              "    .dataframe thead th {\n",
              "        text-align: right;\n",
              "    }\n",
              "</style>\n",
              "<table border=\"1\" class=\"dataframe\">\n",
              "  <thead>\n",
              "    <tr style=\"text-align: right;\">\n",
              "      <th></th>\n",
              "      <th>make</th>\n",
              "      <th>fuel-type</th>\n",
              "      <th>aspiration</th>\n",
              "      <th>num-of-doors</th>\n",
              "      <th>body-style</th>\n",
              "      <th>...</th>\n",
              "      <th>compression-ratio</th>\n",
              "      <th>horsepower</th>\n",
              "      <th>peak-rpm</th>\n",
              "      <th>city-mpg</th>\n",
              "      <th>highway-mpg</th>\n",
              "    </tr>\n",
              "  </thead>\n",
              "  <tbody>\n",
              "    <tr>\n",
              "      <th>0</th>\n",
              "      <td>volkswagen</td>\n",
              "      <td>diesel</td>\n",
              "      <td>std</td>\n",
              "      <td>four</td>\n",
              "      <td>sedan</td>\n",
              "      <td>...</td>\n",
              "      <td>23.0</td>\n",
              "      <td>52.0</td>\n",
              "      <td>4800.0</td>\n",
              "      <td>37</td>\n",
              "      <td>46</td>\n",
              "    </tr>\n",
              "    <tr>\n",
              "      <th>1</th>\n",
              "      <td>mercury</td>\n",
              "      <td>gas</td>\n",
              "      <td>turbo</td>\n",
              "      <td>two</td>\n",
              "      <td>hatchback</td>\n",
              "      <td>...</td>\n",
              "      <td>8.0</td>\n",
              "      <td>175.0</td>\n",
              "      <td>5000.0</td>\n",
              "      <td>19</td>\n",
              "      <td>24</td>\n",
              "    </tr>\n",
              "    <tr>\n",
              "      <th>2</th>\n",
              "      <td>nissan</td>\n",
              "      <td>gas</td>\n",
              "      <td>std</td>\n",
              "      <td>four</td>\n",
              "      <td>wagon</td>\n",
              "      <td>...</td>\n",
              "      <td>9.4</td>\n",
              "      <td>69.0</td>\n",
              "      <td>5200.0</td>\n",
              "      <td>31</td>\n",
              "      <td>37</td>\n",
              "    </tr>\n",
              "    <tr>\n",
              "      <th>3</th>\n",
              "      <td>toyota</td>\n",
              "      <td>gas</td>\n",
              "      <td>std</td>\n",
              "      <td>two</td>\n",
              "      <td>hatchback</td>\n",
              "      <td>...</td>\n",
              "      <td>9.3</td>\n",
              "      <td>161.0</td>\n",
              "      <td>5200.0</td>\n",
              "      <td>20</td>\n",
              "      <td>24</td>\n",
              "    </tr>\n",
              "  </tbody>\n",
              "</table>\n",
              "<p>4 rows × 24 columns</p>\n",
              "</div>\n",
              "      <button class=\"colab-df-convert\" onclick=\"convertToInteractive('df-24952084-12db-4ece-9eb9-5c1fc707ee8f')\"\n",
              "              title=\"Convert this dataframe to an interactive table.\"\n",
              "              style=\"display:none;\">\n",
              "\n",
              "  <svg xmlns=\"http://www.w3.org/2000/svg\" height=\"24px\"viewBox=\"0 0 24 24\"\n",
              "       width=\"24px\">\n",
              "    <path d=\"M0 0h24v24H0V0z\" fill=\"none\"/>\n",
              "    <path d=\"M18.56 5.44l.94 2.06.94-2.06 2.06-.94-2.06-.94-.94-2.06-.94 2.06-2.06.94zm-11 1L8.5 8.5l.94-2.06 2.06-.94-2.06-.94L8.5 2.5l-.94 2.06-2.06.94zm10 10l.94 2.06.94-2.06 2.06-.94-2.06-.94-.94-2.06-.94 2.06-2.06.94z\"/><path d=\"M17.41 7.96l-1.37-1.37c-.4-.4-.92-.59-1.43-.59-.52 0-1.04.2-1.43.59L10.3 9.45l-7.72 7.72c-.78.78-.78 2.05 0 2.83L4 21.41c.39.39.9.59 1.41.59.51 0 1.02-.2 1.41-.59l7.78-7.78 2.81-2.81c.8-.78.8-2.07 0-2.86zM5.41 20L4 18.59l7.72-7.72 1.47 1.35L5.41 20z\"/>\n",
              "  </svg>\n",
              "      </button>\n",
              "\n",
              "\n",
              "\n",
              "    <div id=\"df-1ef55a26-1a0f-451c-9e2a-f2942ffc77e3\">\n",
              "      <button class=\"colab-df-quickchart\" onclick=\"quickchart('df-1ef55a26-1a0f-451c-9e2a-f2942ffc77e3')\"\n",
              "              title=\"Suggest charts.\"\n",
              "              style=\"display:none;\">\n",
              "\n",
              "<svg xmlns=\"http://www.w3.org/2000/svg\" height=\"24px\"viewBox=\"0 0 24 24\"\n",
              "     width=\"24px\">\n",
              "    <g>\n",
              "        <path d=\"M19 3H5c-1.1 0-2 .9-2 2v14c0 1.1.9 2 2 2h14c1.1 0 2-.9 2-2V5c0-1.1-.9-2-2-2zM9 17H7v-7h2v7zm4 0h-2V7h2v10zm4 0h-2v-4h2v4z\"/>\n",
              "    </g>\n",
              "</svg>\n",
              "      </button>\n",
              "    </div>\n",
              "\n",
              "<style>\n",
              "  .colab-df-quickchart {\n",
              "    background-color: #E8F0FE;\n",
              "    border: none;\n",
              "    border-radius: 50%;\n",
              "    cursor: pointer;\n",
              "    display: none;\n",
              "    fill: #1967D2;\n",
              "    height: 32px;\n",
              "    padding: 0 0 0 0;\n",
              "    width: 32px;\n",
              "  }\n",
              "\n",
              "  .colab-df-quickchart:hover {\n",
              "    background-color: #E2EBFA;\n",
              "    box-shadow: 0px 1px 2px rgba(60, 64, 67, 0.3), 0px 1px 3px 1px rgba(60, 64, 67, 0.15);\n",
              "    fill: #174EA6;\n",
              "  }\n",
              "\n",
              "  [theme=dark] .colab-df-quickchart {\n",
              "    background-color: #3B4455;\n",
              "    fill: #D2E3FC;\n",
              "  }\n",
              "\n",
              "  [theme=dark] .colab-df-quickchart:hover {\n",
              "    background-color: #434B5C;\n",
              "    box-shadow: 0px 1px 3px 1px rgba(0, 0, 0, 0.15);\n",
              "    filter: drop-shadow(0px 1px 2px rgba(0, 0, 0, 0.3));\n",
              "    fill: #FFFFFF;\n",
              "  }\n",
              "</style>\n",
              "\n",
              "    <script>\n",
              "      async function quickchart(key) {\n",
              "        const containerElement = document.querySelector('#' + key);\n",
              "        const charts = await google.colab.kernel.invokeFunction(\n",
              "            'suggestCharts', [key], {});\n",
              "      }\n",
              "    </script>\n",
              "\n",
              "      <script>\n",
              "\n",
              "function displayQuickchartButton(domScope) {\n",
              "  let quickchartButtonEl =\n",
              "    domScope.querySelector('#df-1ef55a26-1a0f-451c-9e2a-f2942ffc77e3 button.colab-df-quickchart');\n",
              "  quickchartButtonEl.style.display =\n",
              "    google.colab.kernel.accessAllowed ? 'block' : 'none';\n",
              "}\n",
              "\n",
              "        displayQuickchartButton(document);\n",
              "      </script>\n",
              "      <style>\n",
              "    .colab-df-container {\n",
              "      display:flex;\n",
              "      flex-wrap:wrap;\n",
              "      gap: 12px;\n",
              "    }\n",
              "\n",
              "    .colab-df-convert {\n",
              "      background-color: #E8F0FE;\n",
              "      border: none;\n",
              "      border-radius: 50%;\n",
              "      cursor: pointer;\n",
              "      display: none;\n",
              "      fill: #1967D2;\n",
              "      height: 32px;\n",
              "      padding: 0 0 0 0;\n",
              "      width: 32px;\n",
              "    }\n",
              "\n",
              "    .colab-df-convert:hover {\n",
              "      background-color: #E2EBFA;\n",
              "      box-shadow: 0px 1px 2px rgba(60, 64, 67, 0.3), 0px 1px 3px 1px rgba(60, 64, 67, 0.15);\n",
              "      fill: #174EA6;\n",
              "    }\n",
              "\n",
              "    [theme=dark] .colab-df-convert {\n",
              "      background-color: #3B4455;\n",
              "      fill: #D2E3FC;\n",
              "    }\n",
              "\n",
              "    [theme=dark] .colab-df-convert:hover {\n",
              "      background-color: #434B5C;\n",
              "      box-shadow: 0px 1px 3px 1px rgba(0, 0, 0, 0.15);\n",
              "      filter: drop-shadow(0px 1px 2px rgba(0, 0, 0, 0.3));\n",
              "      fill: #FFFFFF;\n",
              "    }\n",
              "  </style>\n",
              "\n",
              "      <script>\n",
              "        const buttonEl =\n",
              "          document.querySelector('#df-24952084-12db-4ece-9eb9-5c1fc707ee8f button.colab-df-convert');\n",
              "        buttonEl.style.display =\n",
              "          google.colab.kernel.accessAllowed ? 'block' : 'none';\n",
              "\n",
              "        async function convertToInteractive(key) {\n",
              "          const element = document.querySelector('#df-24952084-12db-4ece-9eb9-5c1fc707ee8f');\n",
              "          const dataTable =\n",
              "            await google.colab.kernel.invokeFunction('convertToInteractive',\n",
              "                                                     [key], {});\n",
              "          if (!dataTable) return;\n",
              "\n",
              "          const docLinkHtml = 'Like what you see? Visit the ' +\n",
              "            '<a target=\"_blank\" href=https://colab.research.google.com/notebooks/data_table.ipynb>data table notebook</a>'\n",
              "            + ' to learn more about interactive tables.';\n",
              "          element.innerHTML = '';\n",
              "          dataTable['output_type'] = 'display_data';\n",
              "          await google.colab.output.renderOutput(dataTable, element);\n",
              "          const docLink = document.createElement('div');\n",
              "          docLink.innerHTML = docLinkHtml;\n",
              "          element.appendChild(docLink);\n",
              "        }\n",
              "      </script>\n",
              "    </div>\n",
              "  </div>\n"
            ]
          },
          "metadata": {},
          "execution_count": 43
        }
      ],
      "source": [
        "x_train.head(4)"
      ]
    },
    {
      "cell_type": "code",
      "execution_count": null,
      "metadata": {
        "id": "60cNF79MwoWD",
        "colab": {
          "base_uri": "https://localhost:8080/",
          "height": 376
        },
        "outputId": "ba49a2c9-16d5-49b4-f4e6-391b3b4f995d"
      },
      "outputs": [
        {
          "output_type": "error",
          "ename": "ModuleNotFoundError",
          "evalue": "ignored",
          "traceback": [
            "\u001b[0;31m---------------------------------------------------------------------------\u001b[0m",
            "\u001b[0;31mModuleNotFoundError\u001b[0m                       Traceback (most recent call last)",
            "\u001b[0;32m<ipython-input-44-a77001607382>\u001b[0m in \u001b[0;36m<cell line: 1>\u001b[0;34m()\u001b[0m\n\u001b[0;32m----> 1\u001b[0;31m \u001b[0;32mfrom\u001b[0m \u001b[0mcategory_encoders\u001b[0m\u001b[0;34m.\u001b[0m\u001b[0mordinal\u001b[0m \u001b[0;32mimport\u001b[0m \u001b[0mOrdinalEncoder\u001b[0m\u001b[0;34m\u001b[0m\u001b[0;34m\u001b[0m\u001b[0m\n\u001b[0m\u001b[1;32m      2\u001b[0m \u001b[0;34m\u001b[0m\u001b[0m\n\u001b[1;32m      3\u001b[0m enc = OrdinalEncoder(\n\u001b[1;32m      4\u001b[0m     \u001b[0mcols\u001b[0m\u001b[0;34m=\u001b[0m\u001b[0mfeatures\u001b[0m\u001b[0;34m[\u001b[0m\u001b[0;34m'categorical'\u001b[0m\u001b[0;34m]\u001b[0m\u001b[0;34m,\u001b[0m\u001b[0;34m\u001b[0m\u001b[0;34m\u001b[0m\u001b[0m\n\u001b[1;32m      5\u001b[0m     \u001b[0mhandle_unknown\u001b[0m\u001b[0;34m=\u001b[0m\u001b[0;34m'value'\u001b[0m\u001b[0;34m\u001b[0m\u001b[0;34m\u001b[0m\u001b[0m\n",
            "\u001b[0;31mModuleNotFoundError\u001b[0m: No module named 'category_encoders'",
            "",
            "\u001b[0;31m---------------------------------------------------------------------------\u001b[0;32m\nNOTE: If your import is failing due to a missing package, you can\nmanually install dependencies using either !pip or !apt.\n\nTo view examples of installing some common dependencies, click the\n\"Open Examples\" button below.\n\u001b[0;31m---------------------------------------------------------------------------\u001b[0m\n"
          ],
          "errorDetails": {
            "actions": [
              {
                "action": "open_url",
                "actionText": "Open Examples",
                "url": "/notebooks/snippets/importing_libraries.ipynb"
              }
            ]
          }
        }
      ],
      "source": [
        "from category_encoders.ordinal import OrdinalEncoder\n",
        "\n",
        "enc = OrdinalEncoder(\n",
        "    cols=features['categorical'],\n",
        "    handle_unknown='value'\n",
        ")\n",
        "\n",
        "x_train = enc.fit_transform(x_train)\n",
        "x_test = enc.transform(x_test)"
      ]
    },
    {
      "cell_type": "code",
      "execution_count": null,
      "metadata": {
        "id": "5sZjHnVgwoWD"
      },
      "outputs": [],
      "source": [
        "x_train.head(4)"
      ]
    },
    {
      "cell_type": "markdown",
      "metadata": {
        "id": "7Swmc3SwwoWE"
      },
      "source": [
        "## Random Forest"
      ]
    },
    {
      "cell_type": "code",
      "execution_count": null,
      "metadata": {
        "id": "X7Li1ednwoWE"
      },
      "outputs": [],
      "source": [
        "from sklearn.ensemble import RandomForestRegressor\n",
        "\n",
        "rgr = RandomForestRegressor(n_jobs=-1)\n",
        "\n",
        "rgr.fit(x_train, y_train)\n",
        "y_test_pred = rgr.predict(x_test)"
      ]
    },
    {
      "cell_type": "code",
      "execution_count": null,
      "metadata": {
        "id": "a1-bwdJXwoWE"
      },
      "outputs": [],
      "source": [
        "print(rgr)"
      ]
    },
    {
      "cell_type": "code",
      "execution_count": null,
      "metadata": {
        "id": "Il16nSXrwoWF"
      },
      "outputs": [],
      "source": [
        "from sklearn.metrics import (\n",
        "    mean_squared_error, mean_absolute_error, median_absolute_error, r2_score\n",
        ")\n",
        "\n",
        "print(\n",
        "    'R2: {:.2f}, MSE: {:.2f}, RMSE: {:.2f}, MAE {:.2f}'.format(\n",
        "        r2_score(y_test, y_test_pred),\n",
        "        mean_squared_error(y_test, y_test_pred),\n",
        "        np.sqrt(mean_squared_error(y_test, y_test_pred)),\n",
        "        mean_absolute_error(y_test, y_test_pred),\n",
        "    )\n",
        ")"
      ]
    },
    {
      "cell_type": "code",
      "execution_count": null,
      "metadata": {
        "id": "G3fs5b5FwoWF"
      },
      "outputs": [],
      "source": [
        "df_pred = pd.DataFrame(\n",
        "    {\n",
        "        'actuals': y_test,\n",
        "        'predictions': y_test_pred,\n",
        "    }\n",
        ")\n",
        "\n",
        "df_pred['error'] = np.abs(y_test - y_test_pred)\n",
        "\n",
        "fig, axs = plt.subplots(1, 2, figsize=(16, 5), sharey=False)\n",
        "\n",
        "df_pred.plot(\n",
        "    title='Actuals vs Predictions',\n",
        "    kind='scatter',\n",
        "    x='actuals',\n",
        "    y='predictions',\n",
        "    color='k',\n",
        "    ax=axs[0],\n",
        ")\n",
        "\n",
        "df_pred['error'].plot(\n",
        "    title='Distribution of Error',\n",
        "    kind='hist',\n",
        "    color='k',\n",
        "    ax=axs[1],\n",
        ")\n",
        "\n",
        "axs[1].set_xlabel('Absolute Error')\n",
        "\n",
        "fig.show()"
      ]
    },
    {
      "cell_type": "code",
      "execution_count": null,
      "metadata": {
        "id": "oujQOvCVwoWF"
      },
      "outputs": [],
      "source": [
        "pd.set_option('display.max_rows', 8)"
      ]
    },
    {
      "cell_type": "code",
      "execution_count": null,
      "metadata": {
        "id": "2QrlxoZDwoWG"
      },
      "outputs": [],
      "source": [
        "df_feature_importances = pd.DataFrame(\n",
        "    {\n",
        "        'Feature': x_train.columns,\n",
        "        'Importance': rgr.feature_importances_,\n",
        "    }\n",
        ").sort_values(\n",
        "    'Importance', ascending=False\n",
        ")\n",
        "\n",
        "df_feature_importances"
      ]
    },
    {
      "cell_type": "code",
      "execution_count": null,
      "metadata": {
        "id": "N_cT17hswoWG"
      },
      "outputs": [],
      "source": [
        "pd.set_option('display.max_rows', 50)"
      ]
    },
    {
      "cell_type": "code",
      "execution_count": null,
      "metadata": {
        "id": "fCalEdy-woWG"
      },
      "outputs": [],
      "source": [
        "from sklearn.inspection import plot_partial_dependence\n",
        "\n",
        "fig, ax = plt.subplots(1, 1, figsize=(15, 7), sharey=False)\n",
        "\n",
        "top_features = df_feature_importances['Feature'].head(6)\n",
        "\n",
        "plot_partial_dependence(\n",
        "    rgr, x_train,\n",
        "    features=top_features,\n",
        "    n_cols=3,\n",
        "    n_jobs=-1,\n",
        "    line_kw={'color': 'k'},\n",
        "    ax=ax\n",
        ")\n",
        "\n",
        "ax.set_title('Partial Dependence')\n",
        "\n",
        "fig.show()"
      ]
    },
    {
      "cell_type": "code",
      "execution_count": null,
      "metadata": {
        "id": "a7y6j78QwoWG"
      },
      "outputs": [],
      "source": [
        "# Shall I also write about permutation_importance.\n",
        "# Tip: impurity-based feature importance can inflate the importance of numerical features.\n",
        "# https://scikit-learn.org/stable/auto_examples/inspection/plot_permutation_importance.html"
      ]
    },
    {
      "cell_type": "code",
      "execution_count": null,
      "metadata": {
        "id": "0UCx2X5EwoWH"
      },
      "outputs": [],
      "source": []
    },
    {
      "cell_type": "code",
      "execution_count": null,
      "metadata": {
        "id": "ZZt4npjXwoWH"
      },
      "outputs": [],
      "source": [
        "from sklearn.ensemble import RandomForestRegressor\n",
        "from sklearn.metrics import (\n",
        "    mean_squared_error, mean_absolute_error, median_absolute_error, r2_score\n",
        ")\n",
        "\n",
        "\n",
        "mae = []\n",
        "mse = []\n",
        "\n",
        "n_estimators_options = [5, 500, 5000]\n",
        "\n",
        "for n_estimators in n_estimators_options:\n",
        "\n",
        "    rgr = RandomForestRegressor(\n",
        "        n_estimators=n_estimators,\n",
        "        bootstrap=True,\n",
        "        max_features=0.75,\n",
        "        max_samples=0.75,\n",
        "        n_jobs=-1,\n",
        "    )\n",
        "\n",
        "    rgr.fit(x_train, y_train)\n",
        "    y_test_pred = rgr.predict(x_test)\n",
        "\n",
        "    mae.append(mean_absolute_error(y_test, y_test_pred))\n",
        "    mse.append(mean_squared_error(y_test, y_test_pred))\n",
        "\n",
        "df_error = pd.DataFrame(\n",
        "    {\n",
        "        'n_estimators': n_estimators_options,\n",
        "        'MAE': mae,\n",
        "        'MSE': mse\n",
        "    }\n",
        ").set_index('n_estimators')"
      ]
    },
    {
      "cell_type": "code",
      "execution_count": null,
      "metadata": {
        "id": "zpmXy7QGwoWI"
      },
      "outputs": [],
      "source": [
        "df_error"
      ]
    },
    {
      "cell_type": "code",
      "execution_count": null,
      "metadata": {
        "id": "1GUjCfqMwoWI"
      },
      "outputs": [],
      "source": [
        "fig, ax = plt.subplots(1, 1, figsize=(16, 5), sharey=False)\n",
        "\n",
        "df_error['MAE'].plot(\n",
        "    title=\"Mean Absolute Error (Random Forest)\",\n",
        "    kind='bar',\n",
        "    ylim=(1.1,1.7),\n",
        "    color='k',\n",
        "    ax=ax\n",
        ")\n",
        "\n",
        "ax.set_ylabel('MAE')\n",
        "\n",
        "fig.show()"
      ]
    },
    {
      "cell_type": "markdown",
      "metadata": {
        "id": "7vYgM3oJwoWI"
      },
      "source": [
        "## Bagging Regressor"
      ]
    },
    {
      "cell_type": "code",
      "execution_count": null,
      "metadata": {
        "id": "bJ32eCiZwoWJ"
      },
      "outputs": [],
      "source": [
        "from sklearn.ensemble import BaggingRegressor\n",
        "from sklearn.neighbors import KNeighborsRegressor\n",
        "\n",
        "# Compare to when K > 1; performance is worse then\n",
        "rgr = BaggingRegressor(\n",
        "    base_estimator=KNeighborsRegressor(n_neighbors=1),\n",
        "    n_estimators=200,\n",
        ")\n",
        "\n",
        "rgr.fit(x_train, y_train)\n",
        "y_test_pred = rgr.predict(x_test)"
      ]
    },
    {
      "cell_type": "code",
      "execution_count": null,
      "metadata": {
        "id": "WCTm8yEuwoWJ"
      },
      "outputs": [],
      "source": [
        "from sklearn.metrics import (\n",
        "    mean_squared_error, mean_absolute_error, median_absolute_error, r2_score\n",
        ")\n",
        "\n",
        "print(\n",
        "    'R2: {:.2f}, MSE: {:.2f}, MAE: {:.2f}'.format(\n",
        "        r2_score(df_test[target], y_test_pred),\n",
        "        mean_squared_error(df_test[target], y_test_pred),\n",
        "        mean_absolute_error(df_test[target], y_test_pred),\n",
        "    )\n",
        ")"
      ]
    },
    {
      "cell_type": "code",
      "execution_count": null,
      "metadata": {
        "id": "VjRxW4vAwoWK"
      },
      "outputs": [],
      "source": [
        "class ColumnNamesKeeper:\n",
        "\n",
        "    def __init__(self, transformer):\n",
        "        self._columns = None\n",
        "        self.transformer = transformer\n",
        "\n",
        "    def __repr__(self):\n",
        "        return repr(self.transformer)\n",
        "\n",
        "    def fit(self, x, y=None):\n",
        "        self._columns = x.columns\n",
        "        self.transformer.fit(x)\n",
        "\n",
        "    def transform(self, x, y=None):\n",
        "        x = self.transformer.transform(x)\n",
        "        return pd.DataFrame(x, columns=self._columns)\n",
        "\n",
        "    def fit_transform(self, x, y=None):\n",
        "        self.fit(x, y)\n",
        "        return self.transform(x)"
      ]
    },
    {
      "cell_type": "code",
      "execution_count": null,
      "metadata": {
        "scrolled": false,
        "id": "yJ2MZxvfwoWL"
      },
      "outputs": [],
      "source": [
        "from sklearn.impute import SimpleImputer\n",
        "from category_encoders.one_hot import OneHotEncoder\n",
        "from sklearn.preprocessing import MinMaxScaler\n",
        "from sklearn.pipeline import Pipeline\n",
        "\n",
        "numerical_mputer = ColumnNamesKeeper(\n",
        "    SimpleImputer(\n",
        "        missing_values=np.nan,\n",
        "        strategy='median'\n",
        "    )\n",
        ")\n",
        "\n",
        "categorical_mputer = ColumnNamesKeeper(\n",
        "    SimpleImputer(\n",
        "        missing_values=np.nan,\n",
        "        strategy='most_frequent'\n",
        "    )\n",
        ")\n",
        "\n",
        "minmax_scaler = ColumnNamesKeeper(\n",
        "    MinMaxScaler()\n",
        ")\n",
        "\n",
        "onehot_encoder = OneHotEncoder(\n",
        "    cols=features['categorical'],\n",
        "    handle_unknown='value'\n",
        ")\n",
        "\n",
        "numerical_pipeline = Pipeline(\n",
        "    [\n",
        "        ('numerical_mputer', numerical_mputer),\n",
        "        ('minmax_scaler', minmax_scaler)\n",
        "    ]\n",
        ")\n",
        "\n",
        "categorical_pipeline = Pipeline(\n",
        "    [\n",
        "        ('categorical_mputer', categorical_mputer),\n",
        "        ('onehot_encoder', onehot_encoder)\n",
        "    ]\n",
        ")\n",
        "\n",
        "x_train_knn = pd.concat(\n",
        "    [\n",
        "        numerical_pipeline.fit_transform(df_train[features['numerical']]),\n",
        "        categorical_pipeline.fit_transform(df_train[features['categorical']]),\n",
        "    ],\n",
        "    axis=1\n",
        ")\n",
        "\n",
        "x_test_knn = pd.concat(\n",
        "    [\n",
        "        numerical_pipeline.transform(df_test[features['numerical']]),\n",
        "        categorical_pipeline.transform(df_test[features['categorical']]),\n",
        "    ],\n",
        "    axis=1\n",
        ")"
      ]
    },
    {
      "cell_type": "code",
      "execution_count": null,
      "metadata": {
        "id": "bqI-d4ENwoWL"
      },
      "outputs": [],
      "source": [
        "from sklearn.ensemble import BaggingRegressor\n",
        "from sklearn.neighbors import KNeighborsRegressor\n",
        "\n",
        "rgr = BaggingRegressor(\n",
        "    base_estimator=KNeighborsRegressor(\n",
        "        n_neighbors=1\n",
        "    ),\n",
        "    n_estimators=400,\n",
        ")\n",
        "\n",
        "rgr.fit(x_train_knn, y_train)\n",
        "y_test_pred = rgr.predict(x_test_knn)"
      ]
    },
    {
      "cell_type": "code",
      "execution_count": null,
      "metadata": {
        "id": "o-CVsANzwoWM"
      },
      "outputs": [],
      "source": [
        "from sklearn.metrics import (\n",
        "    mean_squared_error, mean_absolute_error, median_absolute_error, r2_score\n",
        ")\n",
        "\n",
        "print(\n",
        "    'R2: {:.2f}, MSE: {:.2f}, MAE: {:.2f}'.format(\n",
        "        r2_score(df_test[target], y_test_pred),\n",
        "        mean_squared_error(df_test[target], y_test_pred),\n",
        "        mean_absolute_error(df_test[target], y_test_pred),\n",
        "    )\n",
        ")"
      ]
    },
    {
      "cell_type": "code",
      "execution_count": null,
      "metadata": {
        "id": "pYb86htWwoWN"
      },
      "outputs": [],
      "source": [
        "rgr = KNeighborsRegressor(\n",
        "    n_neighbors=3\n",
        ")\n",
        "\n",
        "rgr.fit(x_train_knn, y_train)\n",
        "y_test_pred = rgr.predict(x_test_knn)"
      ]
    },
    {
      "cell_type": "code",
      "execution_count": null,
      "metadata": {
        "id": "Bw4b-tDLwoWO"
      },
      "outputs": [],
      "source": [
        "from sklearn.metrics import (\n",
        "    mean_squared_error, mean_absolute_error, median_absolute_error, r2_score\n",
        ")\n",
        "\n",
        "print(\n",
        "    'R2: {:.2f}, MSE: {:.2f}, MAE: {:.2f}'.format(\n",
        "        r2_score(df_test[target], y_test_pred),\n",
        "        mean_squared_error(df_test[target], y_test_pred),\n",
        "        mean_absolute_error(df_test[target], y_test_pred),\n",
        "    )\n",
        ")"
      ]
    },
    {
      "cell_type": "raw",
      "metadata": {
        "id": "HidkYhrcwoWP"
      },
      "source": [
        "## Bias Varias <- Seems like bad implementation here, needs more research\n",
        "\n",
        "def calculate_bias_variance(y_true, y_pred):\n",
        "    bias = ((y_true -  y_pred.mean()) ** 2).mean()\n",
        "    variance = ((y_pred -  y_pred.mean()) ** 2).mean()\n",
        "    total = bias + variance\n",
        "    return bias / total, variance / total\n",
        "\n",
        "calculate_bias_variance(y_test, y_test_pred)"
      ]
    },
    {
      "cell_type": "raw",
      "metadata": {
        "id": "6DWwLehfwoWP"
      },
      "source": [
        "n_estimators = []\n",
        "bias_ratios = []\n",
        "variance_ratios = []\n",
        "\n",
        "for n in range(1, 22, 4):\n",
        "    rgr = BaggingRegressor(\n",
        "        n_estimators=n,\n",
        "        n_jobs=-1,\n",
        "    )\n",
        "\n",
        "    rgr.fit(x_train, y_train)\n",
        "    y_test_pred = rgr.predict(x_test)\n",
        "\n",
        "    b, v = calculate_bias_variance(y_test, y_test_pred)\n",
        "\n",
        "    n_estimators.append(n)\n",
        "    bias_ratios.append(b)\n",
        "    variance_ratios.append(v)\n",
        "\n",
        "df_bias_variance = pd.DataFrame(\n",
        "    {\n",
        "        'n_estimators': n_estimators,\n",
        "        'bias_ratio': bias_ratios,\n",
        "        'variance_ratio': variance_ratios,\n",
        "    }\n",
        ")"
      ]
    },
    {
      "cell_type": "raw",
      "metadata": {
        "id": "6qw1CDlmwoWR"
      },
      "source": [
        "df_bias_variance.set_index('n_estimators').plot(kind='line')"
      ]
    },
    {
      "cell_type": "markdown",
      "metadata": {
        "id": "E7PCleLswoWR"
      },
      "source": [
        "## Gradient Boosting"
      ]
    },
    {
      "cell_type": "code",
      "execution_count": null,
      "metadata": {
        "id": "GCW_SQkSwoWS"
      },
      "outputs": [],
      "source": [
        "from sklearn.ensemble import GradientBoostingRegressor\n",
        "\n",
        "rgr = GradientBoostingRegressor(n_estimators=1000, max_depth=3, learning_rate=0.01, loss='ls')\n",
        "\n",
        "rgr.fit(x_train, y_train)\n",
        "y_test_pred = rgr.predict(x_test)"
      ]
    },
    {
      "cell_type": "code",
      "execution_count": null,
      "metadata": {
        "id": "QDC_9jRnwoWS"
      },
      "outputs": [],
      "source": [
        "from sklearn.metrics import (\n",
        "    mean_squared_error, mean_absolute_error, median_absolute_error, r2_score\n",
        ")\n",
        "\n",
        "print(\n",
        "    'R2: {:.2f}, MSE: {:.2f}, RMSE: {:.2f}, MAE: {:.2f}'.format(\n",
        "        r2_score(y_test, y_test_pred),\n",
        "        mean_squared_error(y_test, y_test_pred),\n",
        "        np.sqrt(mean_squared_error(y_test, y_test_pred)),\n",
        "        mean_absolute_error(y_test, y_test_pred),\n",
        "    )\n",
        ")"
      ]
    },
    {
      "cell_type": "code",
      "execution_count": null,
      "metadata": {
        "id": "l67IvwqawoWT"
      },
      "outputs": [],
      "source": [
        "# Random Forest\n",
        "# R2: 0.91, MSE: 4.16, RMSE: 2.04, MAE 1.31"
      ]
    },
    {
      "cell_type": "code",
      "execution_count": null,
      "metadata": {
        "id": "d5z2h31fwoWT"
      },
      "outputs": [],
      "source": [
        "df_pred = pd.DataFrame(\n",
        "    {\n",
        "        'actuals': y_test,\n",
        "        'predictions': y_test_pred,\n",
        "    }\n",
        ")\n",
        "\n",
        "df_pred['error'] = np.abs(y_test - y_test_pred)\n",
        "\n",
        "fig, axs = plt.subplots(1, 2, figsize=(16, 5), sharey=False)\n",
        "\n",
        "df_pred.plot(\n",
        "    title='Actuals vs Predictions',\n",
        "    kind='scatter',\n",
        "    x='actuals',\n",
        "    y='predictions',\n",
        "    color='k',\n",
        "    ax=axs[0],\n",
        ")\n",
        "\n",
        "df_pred['error'].plot(\n",
        "    title='Distribution of Error',\n",
        "    kind='hist',\n",
        "    color='k',\n",
        "    ax=axs[1],\n",
        ")\n",
        "\n",
        "fig.show()"
      ]
    },
    {
      "cell_type": "code",
      "execution_count": null,
      "metadata": {
        "id": "07ZFeL9XwoWU"
      },
      "outputs": [],
      "source": [
        "df_feature_importances = pd.DataFrame(\n",
        "    {\n",
        "        'Feature': x_train.columns,\n",
        "        'Importance': rgr.feature_importances_,\n",
        "    }\n",
        ").sort_values(\n",
        "    'Importance', ascending=False\n",
        ")\n",
        "\n",
        "df_feature_importances.head(8)"
      ]
    },
    {
      "cell_type": "code",
      "execution_count": null,
      "metadata": {
        "id": "oMf-eU-MwoWU"
      },
      "outputs": [],
      "source": [
        "from sklearn.inspection import plot_partial_dependence\n",
        "\n",
        "fig, ax = plt.subplots(1, 1, figsize=(15, 7), sharey=False)\n",
        "\n",
        "top_features = df_feature_importances['Feature'].head(6)\n",
        "\n",
        "plot_partial_dependence(\n",
        "    rgr, x_train,\n",
        "    features=top_features,\n",
        "    n_cols=3,\n",
        "    n_jobs=-1,\n",
        "    line_kw={'color': 'k'},\n",
        "    ax=ax\n",
        ")\n",
        "\n",
        "ax.set_title('Partial Dependence')\n",
        "\n",
        "fig.show()"
      ]
    },
    {
      "cell_type": "markdown",
      "metadata": {
        "id": "5nwlM-2hwoWV"
      },
      "source": [
        "## Deviance"
      ]
    },
    {
      "cell_type": "code",
      "execution_count": null,
      "metadata": {
        "id": "p7DG-C1owoWV"
      },
      "outputs": [],
      "source": [
        "from sklearn.ensemble import GradientBoostingRegressor\n",
        "\n",
        "rgr = GradientBoostingRegressor(n_estimators=250, learning_rate=0.02, loss='ls')\n",
        "rgr.fit(x_train, y_train)\n",
        "y_test_pred = rgr.predict(x_test)\n",
        "\n",
        "print(f'MSE: {mean_squared_error(y_test, y_test_pred)}')"
      ]
    },
    {
      "cell_type": "code",
      "execution_count": null,
      "metadata": {
        "id": "vO9yWNKLwoWW"
      },
      "outputs": [],
      "source": [
        "def calculate_deviance(estimator, x_test, y_test):\n",
        "\n",
        "    train_errors = estimator.train_score_\n",
        "    test_errors = [\n",
        "        estimator.loss_(y_test, y_pred_staged) # mean_squared_error(y_test, y_pred_staged)\n",
        "        for y_pred_staged in estimator.staged_predict(x_test)\n",
        "    ]\n",
        "\n",
        "    return pd.DataFrame(\n",
        "        {\n",
        "            'n_estimators': range(1, estimator.estimators_.shape[0]+1),\n",
        "            'train_error': train_errors,\n",
        "            'test_error': test_errors,\n",
        "        }\n",
        "    ).set_index('n_estimators')"
      ]
    },
    {
      "cell_type": "code",
      "execution_count": null,
      "metadata": {
        "id": "_yP1O6S6woWW"
      },
      "outputs": [],
      "source": [
        "fig, ax = plt.subplots(1, 1, figsize=(16, 5), sharey=False)\n",
        "\n",
        "df_deviance = calculate_deviance(rgr, x_test, y_test)\n",
        "\n",
        "df_deviance['train_error'].plot(\n",
        "    kind='line',\n",
        "    color='k',\n",
        "    linestyle=':',\n",
        "    ax=ax\n",
        ")\n",
        "\n",
        "df_deviance['test_error'].plot(\n",
        "    kind='line',\n",
        "    color='k',\n",
        "    linestyle='-',\n",
        "    ax=ax\n",
        ")\n",
        "\n",
        "ax.set_title('Gradient Boosting - Deviance; comparing train and test errors vs n_estimators')\n",
        "\n",
        "ax.legend(ncol=2, fontsize='x-large', shadow=True)\n",
        "\n",
        "fig.show()"
      ]
    },
    {
      "cell_type": "code",
      "execution_count": null,
      "metadata": {
        "id": "bUqmZYN6woWX"
      },
      "outputs": [],
      "source": [
        "learning_rates = [1, 0.1, 0.01]\n",
        "\n",
        "fig, axs = plt.subplots(1, len(learning_rates), figsize=(16, 5), sharey=True)\n",
        "\n",
        "for i, learning_rate in enumerate(learning_rates):\n",
        "\n",
        "    rgr = GradientBoostingRegressor(n_estimators=500, learning_rate=learning_rate, loss='ls')\n",
        "    rgr.fit(x_train, y_train)\n",
        "    y_test_pred = rgr.predict(x_test)\n",
        "\n",
        "    final_test_error = mean_squared_error(y_test, y_test_pred)\n",
        "\n",
        "    df_deviance = calculate_deviance(rgr, x_test, y_test)\n",
        "\n",
        "    df_deviance['train_error'].plot(\n",
        "        title='Gradient Boosting - Deviance',\n",
        "        kind='line',\n",
        "        color='k',\n",
        "        linestyle=':',\n",
        "        ax=axs[i]\n",
        "    )\n",
        "\n",
        "    df_deviance['test_error'].plot(\n",
        "        title=f'Gradient Boosting - Deviance\\nlearning_rate={learning_rate}\\nfinal_test_error={final_test_error:.2f}',\n",
        "        kind='line',\n",
        "        color='k',\n",
        "        linestyle='-',\n",
        "        ax=axs[i]\n",
        "    )\n",
        "\n",
        "    axs[i].set_ylabel('Loss')\n",
        "\n",
        "    axs[i].legend(ncol=2, fontsize='x-large', shadow=True)\n",
        "\n",
        "fig.show()"
      ]
    },
    {
      "cell_type": "code",
      "execution_count": null,
      "metadata": {
        "id": "eLT_0h4ewoWY"
      },
      "outputs": [],
      "source": [
        "subsamples = [1.0, 0.8, 0.6]\n",
        "\n",
        "fig, axs = plt.subplots(1, len(subsamples), figsize=(16, 5), sharey=True)\n",
        "\n",
        "for i, subsample in enumerate(subsamples):\n",
        "\n",
        "    loss = 'lad'\n",
        "    learning_rate = 0.01\n",
        "\n",
        "    rgr = GradientBoostingRegressor(\n",
        "        n_estimators=1000, subsample=subsample, learning_rate=learning_rate, loss=loss\n",
        "    )\n",
        "    rgr.fit(x_train, y_train)\n",
        "    y_test_pred = rgr.predict(x_test)\n",
        "\n",
        "    final_test_error = mean_squared_error(y_test, y_test_pred)\n",
        "\n",
        "    df_deviance = calculate_deviance(rgr, x_test, y_test)\n",
        "\n",
        "    df_deviance['train_error'].plot(\n",
        "        title='Gradient Boosting - Deviance',\n",
        "        kind='line',\n",
        "        color='k',\n",
        "        linestyle=':',\n",
        "        ax=axs[i]\n",
        "    )\n",
        "\n",
        "    df_deviance['test_error'].plot(\n",
        "        title=f'Gradient Boosting Deviance\\n(Loss={loss.upper()} & LR={learning_rate})\\nsubsample={subsample}\\nfinal_test_error={final_test_error:.2f}',\n",
        "        kind='line',\n",
        "        color='k',\n",
        "        linestyle='-',\n",
        "        ax=axs[i]\n",
        "    )\n",
        "\n",
        "    axs[i].legend(ncol=2, fontsize='x-large', shadow=True)\n",
        "\n",
        "fig.show()"
      ]
    },
    {
      "cell_type": "markdown",
      "metadata": {
        "id": "q0uNFjTxwoWY"
      },
      "source": [
        "## Early Stopping\n",
        "n_iter_no_change, tol"
      ]
    },
    {
      "cell_type": "markdown",
      "metadata": {
        "id": "K7y_FxnYwoWZ"
      },
      "source": [
        "## Dynamic Learning Rate"
      ]
    },
    {
      "cell_type": "code",
      "execution_count": null,
      "metadata": {
        "id": "BAkHBpFOwoWZ"
      },
      "outputs": [],
      "source": [
        "def lr_changer(n, estimator, params):\n",
        "    if n % 10:\n",
        "        estimator.learning_rate = 0.01\n",
        "    else:\n",
        "        estimator.learning_rate = 0.1\n",
        "    return False"
      ]
    },
    {
      "cell_type": "code",
      "execution_count": null,
      "metadata": {
        "id": "f1UqYOzmwoWa"
      },
      "outputs": [],
      "source": [
        "from sklearn.ensemble import GradientBoostingRegressor\n",
        "\n",
        "rgr = GradientBoostingRegressor(n_estimators=50, learning_rate=0.01, loss='ls')\n",
        "rgr.fit(x_train, y_train, monitor=lr_changer)\n",
        "y_test_pred = rgr.predict(x_test)\n",
        "\n",
        "print(f'MSE: {mean_squared_error(y_test, y_test_pred)}')"
      ]
    },
    {
      "cell_type": "code",
      "execution_count": null,
      "metadata": {
        "id": "34CfAkIzwoWa"
      },
      "outputs": [],
      "source": [
        "fig, ax = plt.subplots(1, 1, figsize=(16, 5), sharey=False)\n",
        "\n",
        "df_deviance = calculate_deviance(rgr, x_test, y_test)\n",
        "\n",
        "df_deviance['train_error'].plot(\n",
        "    kind='line',\n",
        "    color='k',\n",
        "    linestyle=':',\n",
        "    ax=ax\n",
        ")\n",
        "\n",
        "df_deviance['test_error'].plot(\n",
        "    kind='line',\n",
        "    color='k',\n",
        "    linestyle='-',\n",
        "    ax=ax\n",
        ")\n",
        "\n",
        "ax.set_title('Gradient Boosting - Deviance; comparing train and test errors vs n_estimators')\n",
        "\n",
        "ax.legend(ncol=2, fontsize='x-large', shadow=True)\n",
        "\n",
        "fig.show()"
      ]
    },
    {
      "cell_type": "markdown",
      "metadata": {
        "id": "oP-6-eAiwoWb"
      },
      "source": [
        "## Regression Ranges"
      ]
    },
    {
      "cell_type": "code",
      "execution_count": null,
      "metadata": {
        "id": "em-fKqFOwoWb"
      },
      "outputs": [],
      "source": [
        "x_sample = np.arange(-10, 10, 0.05)\n",
        "y_sample = np.random.normal(loc=0, scale=25, size=x_sample.shape[0])\n",
        "y_sample *= x_sample\n",
        "\n",
        "pd_random_samples = pd.DataFrame(\n",
        "    {\n",
        "        'x': x_sample,\n",
        "        'y': y_sample\n",
        "    }\n",
        ")\n",
        "\n",
        "fig, ax = plt.subplots(1, 1, figsize=(12, 8), sharey=False)\n",
        "\n",
        "pd_random_samples.plot(\n",
        "    title='Regression Ranges', kind='scatter', x='x', y='y', color='k', alpha=0.95, ax=ax\n",
        ")\n",
        "\n",
        "fig.show()"
      ]
    },
    {
      "cell_type": "code",
      "execution_count": null,
      "metadata": {
        "id": "u-nmzv5LwoWb"
      },
      "outputs": [],
      "source": [
        "pd_random_samples.shape"
      ]
    },
    {
      "cell_type": "code",
      "execution_count": null,
      "metadata": {
        "id": "ScbgF2wswoWc"
      },
      "outputs": [],
      "source": [
        "np.mean([10,20,22]), np.median([10,20,22])"
      ]
    },
    {
      "cell_type": "code",
      "execution_count": null,
      "metadata": {
        "id": "PmTWhfJLwoWd"
      },
      "outputs": [],
      "source": [
        "from sklearn.ensemble import GradientBoostingRegressor\n",
        "\n",
        "fig, ax = plt.subplots(1, 1, figsize=(12, 8), sharey=False)\n",
        "\n",
        "pd_random_samples.plot(\n",
        "    title='50th Quantile Regression', kind='scatter', x='x', y='y', color='k', alpha=0.95, ax=ax\n",
        ")\n",
        "\n",
        "for quantile in [0.5]:\n",
        "\n",
        "    rgr = GradientBoostingRegressor(n_estimators=10, loss='quantile', alpha=quantile)\n",
        "    rgr.fit(pd_random_samples[['x']], pd_random_samples['y'])\n",
        "    pd_random_samples[f'pred_q{quantile}'] = rgr.predict(pd_random_samples[['x']])\n",
        "\n",
        "    pd_random_samples.plot(\n",
        "        kind='line', x='x', y=f'pred_q{quantile}', linestyle='-', alpha=0.75, color='k', ax=ax\n",
        "    )\n",
        "\n",
        "ax.legend(ncol=1, fontsize='x-large', shadow=True)\n",
        "\n",
        "fig.show()\n"
      ]
    },
    {
      "cell_type": "code",
      "execution_count": null,
      "metadata": {
        "scrolled": false,
        "id": "9wmdDKyMwoWd"
      },
      "outputs": [],
      "source": [
        "from sklearn.ensemble import GradientBoostingRegressor\n",
        "\n",
        "fig, ax = plt.subplots(1, 1, figsize=(12, 8), sharey=False)\n",
        "\n",
        "pd_random_samples.plot(\n",
        "    title='Regression Ranges [10th & 90th Quantiles]', kind='scatter', x='x', y='y', color='k', alpha=0.95, ax=ax\n",
        ")\n",
        "\n",
        "for quantile in [0.1, 0.9]:\n",
        "\n",
        "    rgr = GradientBoostingRegressor(n_estimators=10, loss='quantile', alpha=quantile)\n",
        "    rgr.fit(pd_random_samples[['x']], pd_random_samples['y'])\n",
        "    pd_random_samples[f'pred_q{quantile}'] = rgr.predict(pd_random_samples[['x']])\n",
        "\n",
        "    pd_random_samples.plot(\n",
        "        kind='line', x='x', y=f'pred_q{quantile}', linestyle='-', alpha=0.75, color='k', ax=ax\n",
        "    )\n",
        "\n",
        "ax.legend(ncol=1, fontsize='x-large', shadow=True)\n",
        "\n",
        "fig.show()\n"
      ]
    },
    {
      "cell_type": "code",
      "execution_count": null,
      "metadata": {
        "id": "RlL_XvYqwoWe"
      },
      "outputs": [],
      "source": [
        "##"
      ]
    },
    {
      "cell_type": "code",
      "execution_count": null,
      "metadata": {
        "id": "ewHuR8VYwoWe"
      },
      "outputs": [],
      "source": [
        "from sklearn.ensemble import GradientBoostingRegressor\n",
        "\n",
        "rgr_min = GradientBoostingRegressor(n_estimators=50, loss='quantile', alpha=0.25)\n",
        "rgr_max = GradientBoostingRegressor(n_estimators=50, loss='quantile', alpha=0.75)\n",
        "\n",
        "rgr_min.fit(x_train, y_train, monitor=lr_changer)\n",
        "rgr_max.fit(x_train, y_train, monitor=lr_changer)\n",
        "\n",
        "y_test_pred_min = rgr_min.predict(x_test)\n",
        "y_test_pred_max = rgr_max.predict(x_test)\n",
        "\n",
        "df_pred_range = pd.DataFrame(\n",
        "    {\n",
        "        'Actuals': y_test,\n",
        "        'Pred_min': y_test_pred_min,\n",
        "        'Pred_max': y_test_pred_max,\n",
        "    }\n",
        ")"
      ]
    },
    {
      "cell_type": "code",
      "execution_count": null,
      "metadata": {
        "id": "_Q-e5kkkwoWe"
      },
      "outputs": [],
      "source": [
        "df_pred_range['Actuals in Range?'] = df_pred_range.apply(\n",
        "    lambda row: 1 if row['Actuals'] >= row['Pred_min'] and row['Actuals'] <= row['Pred_max'] else 0,\n",
        "    axis=1\n",
        ")"
      ]
    },
    {
      "cell_type": "code",
      "execution_count": null,
      "metadata": {
        "id": "_FqoO5KQwoWf"
      },
      "outputs": [],
      "source": [
        "df_pred_range['Actuals in Range?'].mean()"
      ]
    },
    {
      "cell_type": "code",
      "execution_count": null,
      "metadata": {
        "id": "Yh6m4r-gwoWf"
      },
      "outputs": [],
      "source": [
        "df_pred_range.sample(n=8)"
      ]
    },
    {
      "cell_type": "code",
      "execution_count": null,
      "metadata": {
        "id": "3Y45JIXDwoWg"
      },
      "outputs": [],
      "source": [
        "df_pred_range.head(5)"
      ]
    },
    {
      "cell_type": "code",
      "execution_count": null,
      "metadata": {
        "id": "95_AUOtlwoWg"
      },
      "outputs": [],
      "source": [
        "(\n",
        "    (\n",
        "        df_pred_range['Pred_max'] - df_pred_range['Pred_min']\n",
        "    ) / (\n",
        "        df_pred_range['Pred_min']\n",
        "    )\n",
        ").head(5)"
      ]
    },
    {
      "cell_type": "code",
      "execution_count": null,
      "metadata": {
        "id": "M7O_9eNQwoWh"
      },
      "outputs": [],
      "source": [
        "# How big is the range ? [0.8 => 180% x min]\n",
        "\n",
        "(\n",
        "    (\n",
        "        df_pred_range['Pred_max'] - df_pred_range['Pred_min']\n",
        "    ) / (\n",
        "        df_pred_range['Pred_min']\n",
        "    )\n",
        ").mean()"
      ]
    },
    {
      "cell_type": "markdown",
      "metadata": {
        "id": "NUttVfKWwoWh"
      },
      "source": [
        "## Ada Boost"
      ]
    },
    {
      "cell_type": "code",
      "execution_count": null,
      "metadata": {
        "id": "k4-3rY4ywoWi"
      },
      "outputs": [],
      "source": [
        "from sklearn.ensemble import AdaBoostRegressor"
      ]
    },
    {
      "cell_type": "code",
      "execution_count": null,
      "metadata": {
        "id": "1Jp1r08awoWi"
      },
      "outputs": [],
      "source": [
        "rgr = AdaBoostRegressor(n_estimators=100)\n",
        "\n",
        "rgr.fit(x_train, y_train)\n",
        "y_test_pred = rgr.predict(x_test)\n",
        "\n",
        "print(f'MSE: {mean_squared_error(y_test, y_test_pred)}')"
      ]
    },
    {
      "cell_type": "code",
      "execution_count": null,
      "metadata": {
        "id": "saUgNXuWwoWi"
      },
      "outputs": [],
      "source": [
        "fig, ax = plt.subplots(1, 1, figsize=(16, 5), sharey=True)\n",
        "\n",
        "pd.DataFrame(\n",
        "    [\n",
        "        (n, mean_squared_error(y_test, y_pred_staged))\n",
        "        for n, y_pred_staged in enumerate(rgr.staged_predict(x_test), 1)\n",
        "    ],\n",
        "    columns=['n', 'Test Error']\n",
        ").set_index('n').plot(\n",
        "    title=f'Ada Boost: Test Error vs n_estimators',\n",
        "    kind='line',\n",
        "    color='k',\n",
        "    linestyle='-',\n",
        "    ax=ax\n",
        ")\n",
        "\n",
        "ax.set_xlabel('n_estimators')\n",
        "ax.set_ylabel('Mean Squared Error (MSE)')\n",
        "\n",
        "fig.show()\n"
      ]
    },
    {
      "cell_type": "markdown",
      "metadata": {
        "id": "oh9IUuMjwoWj"
      },
      "source": [
        "## Random Trees Embedding"
      ]
    },
    {
      "cell_type": "code",
      "execution_count": null,
      "metadata": {
        "id": "rsCbJBCqwoWj"
      },
      "outputs": [],
      "source": [
        "from sklearn.ensemble import RandomTreesEmbedding\n",
        "from sklearn.linear_model import Ridge\n",
        "from sklearn.pipeline import make_pipeline\n",
        "\n",
        "rgr = make_pipeline(RandomTreesEmbedding(), Ridge())\n",
        "rgr.fit(x_train, y_train)\n",
        "y_test_pred = rgr.predict(x_test)\n",
        "\n",
        "print(f'MSE: {mean_squared_error(y_test, y_test_pred)}')"
      ]
    },
    {
      "cell_type": "code",
      "execution_count": null,
      "metadata": {
        "id": "ez0vp4JBwoWk"
      },
      "outputs": [],
      "source": [
        "from sklearn.metrics import (\n",
        "    mean_squared_error, mean_absolute_error, median_absolute_error, r2_score\n",
        ")\n",
        "\n",
        "print(\n",
        "    'R2: {:.2f}, MSE: {:.2f}, MAE: {:.2f}'.format(\n",
        "        r2_score(y_test, y_test_pred),\n",
        "        mean_squared_error(y_test, y_test_pred),\n",
        "        mean_absolute_error(y_test, y_test_pred),\n",
        "    )\n",
        ")"
      ]
    },
    {
      "cell_type": "code",
      "execution_count": null,
      "metadata": {
        "id": "NmhoPgadwoWk"
      },
      "outputs": [],
      "source": [
        "df_pred = pd.DataFrame(\n",
        "    {\n",
        "        'actuals': y_test,\n",
        "        'predictions': y_test_pred,\n",
        "    }\n",
        ")\n",
        "\n",
        "df_pred['error'] = np.abs(y_test - y_test_pred)\n",
        "\n",
        "fig, axs = plt.subplots(1, 2, figsize=(16, 5), sharey=False)\n",
        "\n",
        "df_pred.plot(\n",
        "    title='Actuals vs Predictions',\n",
        "    kind='scatter',\n",
        "    x='actuals',\n",
        "    y='predictions',\n",
        "    color='k',\n",
        "    ax=axs[0],\n",
        ")\n",
        "\n",
        "df_pred['error'].plot(\n",
        "    title='Distribution of Error',\n",
        "    kind='hist',\n",
        "    color='k',\n",
        "    ax=axs[1],\n",
        ")\n",
        "\n",
        "fig.show()"
      ]
    },
    {
      "cell_type": "code",
      "execution_count": null,
      "metadata": {
        "id": "S0KOSzZ0woWl"
      },
      "outputs": [],
      "source": []
    },
    {
      "cell_type": "code",
      "execution_count": null,
      "metadata": {
        "id": "9FMpBnd0woWl"
      },
      "outputs": [],
      "source": []
    },
    {
      "cell_type": "code",
      "execution_count": null,
      "metadata": {
        "id": "9JGyxhX8woWn"
      },
      "outputs": [],
      "source": []
    }
  ],
  "metadata": {
    "kernelspec": {
      "display_name": "Python 3",
      "language": "python",
      "name": "python3"
    },
    "language_info": {
      "codemirror_mode": {
        "name": "ipython",
        "version": 3
      },
      "file_extension": ".py",
      "mimetype": "text/x-python",
      "name": "python",
      "nbconvert_exporter": "python",
      "pygments_lexer": "ipython3",
      "version": "3.6.9"
    },
    "colab": {
      "provenance": [],
      "include_colab_link": true
    }
  },
  "nbformat": 4,
  "nbformat_minor": 0
}